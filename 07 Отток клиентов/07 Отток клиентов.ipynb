{
 "cells": [
  {
   "cell_type": "markdown",
   "metadata": {},
   "source": [
    "# Отток клиентов"
   ]
  },
  {
   "cell_type": "markdown",
   "metadata": {},
   "source": [
    "Из «Бета-Банка» стали уходить клиенты. Каждый месяц. Немного, но заметно. Банковские маркетологи посчитали: сохранять текущих клиентов дешевле, чем привлекать новых.\n",
    "\n",
    "Нужно спрогнозировать, уйдёт клиент из банка в ближайшее время или нет. Вам предоставлены исторические данные о поведении клиентов и расторжении договоров с банком. \n",
    "\n",
    "Постройте модель с предельно большим значением *F1*-меры. Чтобы сдать проект успешно, нужно довести метрику до 0.59. Проверьте *F1*-меру на тестовой выборке самостоятельно.\n",
    "\n",
    "Дополнительно измеряйте *AUC-ROC*, сравнивайте её значение с *F1*-мерой.\n",
    "\n",
    "Источник данных: [https://www.kaggle.com/barelydedicated/bank-customer-churn-modeling](https://www.kaggle.com/barelydedicated/bank-customer-churn-modeling)"
   ]
  },
  {
   "cell_type": "markdown",
   "metadata": {},
   "source": [
    "## Подготовка данных"
   ]
  },
  {
   "cell_type": "code",
   "execution_count": 1,
   "metadata": {},
   "outputs": [],
   "source": [
    "import pandas as pd\n",
    "import matplotlib.pyplot as plt\n",
    "import seaborn as sns\n",
    "import numpy as np\n",
    "from sklearn.model_selection import train_test_split\n",
    "import warnings\n",
    "from sklearn.utils import shuffle\n",
    "#импортируем библиотеку для стандартноо масштабирования\n",
    "from sklearn.preprocessing import StandardScaler\n",
    "#импорт библиотек трех моделей\n",
    "#Деревое решений\n",
    "from sklearn.tree import DecisionTreeClassifier\n",
    "\n",
    "#Случайный лес \n",
    "from sklearn.ensemble import RandomForestClassifier\n",
    "\n",
    "#Логистическая регрессия\n",
    "from sklearn.linear_model import LogisticRegression\n",
    "\n",
    "#Импортируем необходимые метики\n",
    "#метика accuracy\n",
    "from sklearn.metrics import accuracy_score\n",
    "\n",
    "#матрица ошибок\n",
    "from sklearn.metrics import confusion_matrix\n",
    "\n",
    "#полнота\n",
    "from sklearn.metrics import recall_score\n",
    "\n",
    "#точность\n",
    "from sklearn.metrics import precision_score\n",
    "\n",
    "#F-1 мера\n",
    "from sklearn.metrics import f1_score\n",
    "\n",
    "#AUC-ROC\n",
    "from sklearn.metrics import roc_auc_score\n",
    "\n",
    "#ROC-кривая\n",
    "from sklearn.metrics import roc_curve\n",
    "\n",
    "from sklearn.metrics import accuracy_score, f1_score\n",
    "import random"
   ]
  },
  {
   "cell_type": "code",
   "execution_count": 2,
   "metadata": {},
   "outputs": [],
   "source": [
    "# отключить некритические предупреждения в коде\n",
    "warnings.filterwarnings(\"ignore\")"
   ]
  },
  {
   "cell_type": "code",
   "execution_count": 3,
   "metadata": {},
   "outputs": [],
   "source": [
    "try:\n",
    "    df = pd.read_csv('/datasets/Churn.csv')\n",
    "except:\n",
    "    df = pd.read_csv('D:\\DDownloads/Churn.csv')"
   ]
  },
  {
   "cell_type": "code",
   "execution_count": 4,
   "metadata": {},
   "outputs": [
    {
     "data": {
      "text/html": [
       "<div>\n",
       "<style scoped>\n",
       "    .dataframe tbody tr th:only-of-type {\n",
       "        vertical-align: middle;\n",
       "    }\n",
       "\n",
       "    .dataframe tbody tr th {\n",
       "        vertical-align: top;\n",
       "    }\n",
       "\n",
       "    .dataframe thead th {\n",
       "        text-align: right;\n",
       "    }\n",
       "</style>\n",
       "<table border=\"1\" class=\"dataframe\">\n",
       "  <thead>\n",
       "    <tr style=\"text-align: right;\">\n",
       "      <th></th>\n",
       "      <th>RowNumber</th>\n",
       "      <th>CustomerId</th>\n",
       "      <th>Surname</th>\n",
       "      <th>CreditScore</th>\n",
       "      <th>Geography</th>\n",
       "      <th>Gender</th>\n",
       "      <th>Age</th>\n",
       "      <th>Tenure</th>\n",
       "      <th>Balance</th>\n",
       "      <th>NumOfProducts</th>\n",
       "      <th>HasCrCard</th>\n",
       "      <th>IsActiveMember</th>\n",
       "      <th>EstimatedSalary</th>\n",
       "      <th>Exited</th>\n",
       "    </tr>\n",
       "  </thead>\n",
       "  <tbody>\n",
       "    <tr>\n",
       "      <th>0</th>\n",
       "      <td>1</td>\n",
       "      <td>15634602</td>\n",
       "      <td>Hargrave</td>\n",
       "      <td>619</td>\n",
       "      <td>France</td>\n",
       "      <td>Female</td>\n",
       "      <td>42</td>\n",
       "      <td>2.0</td>\n",
       "      <td>0.00</td>\n",
       "      <td>1</td>\n",
       "      <td>1</td>\n",
       "      <td>1</td>\n",
       "      <td>101348.88</td>\n",
       "      <td>1</td>\n",
       "    </tr>\n",
       "    <tr>\n",
       "      <th>1</th>\n",
       "      <td>2</td>\n",
       "      <td>15647311</td>\n",
       "      <td>Hill</td>\n",
       "      <td>608</td>\n",
       "      <td>Spain</td>\n",
       "      <td>Female</td>\n",
       "      <td>41</td>\n",
       "      <td>1.0</td>\n",
       "      <td>83807.86</td>\n",
       "      <td>1</td>\n",
       "      <td>0</td>\n",
       "      <td>1</td>\n",
       "      <td>112542.58</td>\n",
       "      <td>0</td>\n",
       "    </tr>\n",
       "    <tr>\n",
       "      <th>2</th>\n",
       "      <td>3</td>\n",
       "      <td>15619304</td>\n",
       "      <td>Onio</td>\n",
       "      <td>502</td>\n",
       "      <td>France</td>\n",
       "      <td>Female</td>\n",
       "      <td>42</td>\n",
       "      <td>8.0</td>\n",
       "      <td>159660.80</td>\n",
       "      <td>3</td>\n",
       "      <td>1</td>\n",
       "      <td>0</td>\n",
       "      <td>113931.57</td>\n",
       "      <td>1</td>\n",
       "    </tr>\n",
       "    <tr>\n",
       "      <th>3</th>\n",
       "      <td>4</td>\n",
       "      <td>15701354</td>\n",
       "      <td>Boni</td>\n",
       "      <td>699</td>\n",
       "      <td>France</td>\n",
       "      <td>Female</td>\n",
       "      <td>39</td>\n",
       "      <td>1.0</td>\n",
       "      <td>0.00</td>\n",
       "      <td>2</td>\n",
       "      <td>0</td>\n",
       "      <td>0</td>\n",
       "      <td>93826.63</td>\n",
       "      <td>0</td>\n",
       "    </tr>\n",
       "    <tr>\n",
       "      <th>4</th>\n",
       "      <td>5</td>\n",
       "      <td>15737888</td>\n",
       "      <td>Mitchell</td>\n",
       "      <td>850</td>\n",
       "      <td>Spain</td>\n",
       "      <td>Female</td>\n",
       "      <td>43</td>\n",
       "      <td>2.0</td>\n",
       "      <td>125510.82</td>\n",
       "      <td>1</td>\n",
       "      <td>1</td>\n",
       "      <td>1</td>\n",
       "      <td>79084.10</td>\n",
       "      <td>0</td>\n",
       "    </tr>\n",
       "    <tr>\n",
       "      <th>5</th>\n",
       "      <td>6</td>\n",
       "      <td>15574012</td>\n",
       "      <td>Chu</td>\n",
       "      <td>645</td>\n",
       "      <td>Spain</td>\n",
       "      <td>Male</td>\n",
       "      <td>44</td>\n",
       "      <td>8.0</td>\n",
       "      <td>113755.78</td>\n",
       "      <td>2</td>\n",
       "      <td>1</td>\n",
       "      <td>0</td>\n",
       "      <td>149756.71</td>\n",
       "      <td>1</td>\n",
       "    </tr>\n",
       "    <tr>\n",
       "      <th>6</th>\n",
       "      <td>7</td>\n",
       "      <td>15592531</td>\n",
       "      <td>Bartlett</td>\n",
       "      <td>822</td>\n",
       "      <td>France</td>\n",
       "      <td>Male</td>\n",
       "      <td>50</td>\n",
       "      <td>7.0</td>\n",
       "      <td>0.00</td>\n",
       "      <td>2</td>\n",
       "      <td>1</td>\n",
       "      <td>1</td>\n",
       "      <td>10062.80</td>\n",
       "      <td>0</td>\n",
       "    </tr>\n",
       "    <tr>\n",
       "      <th>7</th>\n",
       "      <td>8</td>\n",
       "      <td>15656148</td>\n",
       "      <td>Obinna</td>\n",
       "      <td>376</td>\n",
       "      <td>Germany</td>\n",
       "      <td>Female</td>\n",
       "      <td>29</td>\n",
       "      <td>4.0</td>\n",
       "      <td>115046.74</td>\n",
       "      <td>4</td>\n",
       "      <td>1</td>\n",
       "      <td>0</td>\n",
       "      <td>119346.88</td>\n",
       "      <td>1</td>\n",
       "    </tr>\n",
       "    <tr>\n",
       "      <th>8</th>\n",
       "      <td>9</td>\n",
       "      <td>15792365</td>\n",
       "      <td>He</td>\n",
       "      <td>501</td>\n",
       "      <td>France</td>\n",
       "      <td>Male</td>\n",
       "      <td>44</td>\n",
       "      <td>4.0</td>\n",
       "      <td>142051.07</td>\n",
       "      <td>2</td>\n",
       "      <td>0</td>\n",
       "      <td>1</td>\n",
       "      <td>74940.50</td>\n",
       "      <td>0</td>\n",
       "    </tr>\n",
       "    <tr>\n",
       "      <th>9</th>\n",
       "      <td>10</td>\n",
       "      <td>15592389</td>\n",
       "      <td>H?</td>\n",
       "      <td>684</td>\n",
       "      <td>France</td>\n",
       "      <td>Male</td>\n",
       "      <td>27</td>\n",
       "      <td>2.0</td>\n",
       "      <td>134603.88</td>\n",
       "      <td>1</td>\n",
       "      <td>1</td>\n",
       "      <td>1</td>\n",
       "      <td>71725.73</td>\n",
       "      <td>0</td>\n",
       "    </tr>\n",
       "  </tbody>\n",
       "</table>\n",
       "</div>"
      ],
      "text/plain": [
       "   RowNumber  CustomerId   Surname  CreditScore Geography  Gender  Age  \\\n",
       "0          1    15634602  Hargrave          619    France  Female   42   \n",
       "1          2    15647311      Hill          608     Spain  Female   41   \n",
       "2          3    15619304      Onio          502    France  Female   42   \n",
       "3          4    15701354      Boni          699    France  Female   39   \n",
       "4          5    15737888  Mitchell          850     Spain  Female   43   \n",
       "5          6    15574012       Chu          645     Spain    Male   44   \n",
       "6          7    15592531  Bartlett          822    France    Male   50   \n",
       "7          8    15656148    Obinna          376   Germany  Female   29   \n",
       "8          9    15792365        He          501    France    Male   44   \n",
       "9         10    15592389        H?          684    France    Male   27   \n",
       "\n",
       "   Tenure    Balance  NumOfProducts  HasCrCard  IsActiveMember  \\\n",
       "0     2.0       0.00              1          1               1   \n",
       "1     1.0   83807.86              1          0               1   \n",
       "2     8.0  159660.80              3          1               0   \n",
       "3     1.0       0.00              2          0               0   \n",
       "4     2.0  125510.82              1          1               1   \n",
       "5     8.0  113755.78              2          1               0   \n",
       "6     7.0       0.00              2          1               1   \n",
       "7     4.0  115046.74              4          1               0   \n",
       "8     4.0  142051.07              2          0               1   \n",
       "9     2.0  134603.88              1          1               1   \n",
       "\n",
       "   EstimatedSalary  Exited  \n",
       "0        101348.88       1  \n",
       "1        112542.58       0  \n",
       "2        113931.57       1  \n",
       "3         93826.63       0  \n",
       "4         79084.10       0  \n",
       "5        149756.71       1  \n",
       "6         10062.80       0  \n",
       "7        119346.88       1  \n",
       "8         74940.50       0  \n",
       "9         71725.73       0  "
      ]
     },
     "execution_count": 4,
     "metadata": {},
     "output_type": "execute_result"
    }
   ],
   "source": [
    "df.head(10)"
   ]
  },
  {
   "cell_type": "code",
   "execution_count": 6,
   "metadata": {},
   "outputs": [
    {
     "data": {
      "text/plain": [
       "(10000, 14)"
      ]
     },
     "execution_count": 6,
     "metadata": {},
     "output_type": "execute_result"
    }
   ],
   "source": [
    "df.shape"
   ]
  },
  {
   "cell_type": "code",
   "execution_count": 7,
   "metadata": {},
   "outputs": [
    {
     "name": "stdout",
     "output_type": "stream",
     "text": [
      "<class 'pandas.core.frame.DataFrame'>\n",
      "RangeIndex: 10000 entries, 0 to 9999\n",
      "Data columns (total 14 columns):\n",
      " #   Column           Non-Null Count  Dtype  \n",
      "---  ------           --------------  -----  \n",
      " 0   RowNumber        10000 non-null  int64  \n",
      " 1   CustomerId       10000 non-null  int64  \n",
      " 2   Surname          10000 non-null  object \n",
      " 3   CreditScore      10000 non-null  int64  \n",
      " 4   Geography        10000 non-null  object \n",
      " 5   Gender           10000 non-null  object \n",
      " 6   Age              10000 non-null  int64  \n",
      " 7   Tenure           9091 non-null   float64\n",
      " 8   Balance          10000 non-null  float64\n",
      " 9   NumOfProducts    10000 non-null  int64  \n",
      " 10  HasCrCard        10000 non-null  int64  \n",
      " 11  IsActiveMember   10000 non-null  int64  \n",
      " 12  EstimatedSalary  10000 non-null  float64\n",
      " 13  Exited           10000 non-null  int64  \n",
      "dtypes: float64(3), int64(8), object(3)\n",
      "memory usage: 1.1+ MB\n"
     ]
    }
   ],
   "source": [
    "df.info()"
   ]
  },
  {
   "cell_type": "markdown",
   "metadata": {},
   "source": [
    "Данные представлены в виде таблицы с 10000 строк и 14 столбцов. Каждая строка содержит информацию о клиенте банка, а каждый столбец соответствует определенному признаку клиента, такому как его идентификатор, кредитный рейтинг, страна проживания, возраст, баланс на счете и т.д.\n",
    "\n",
    "Из общей информации о данных можно увидеть, что столбец \"Tenure\" (количество лет, которое клиент является клиентом банка) содержит пропущенные значения (9091 непустых значений из 10000), а все остальные столбцы заполнены полностью. Также можно заметить, что большинство столбцов содержат числовые данные (целочисленные или с плавающей точкой), а также есть три столбца с категориальными данными (страна проживания, пол и фамилия клиента)."
   ]
  },
  {
   "cell_type": "code",
   "execution_count": 5,
   "metadata": {},
   "outputs": [
    {
     "data": {
      "text/plain": [
       "1.0     952\n",
       "2.0     950\n",
       "8.0     933\n",
       "3.0     928\n",
       "5.0     927\n",
       "7.0     925\n",
       "NaN     909\n",
       "4.0     885\n",
       "9.0     882\n",
       "6.0     881\n",
       "10.0    446\n",
       "0.0     382\n",
       "Name: Tenure, dtype: int64"
      ]
     },
     "execution_count": 5,
     "metadata": {},
     "output_type": "execute_result"
    }
   ],
   "source": [
    "# посмотрим значения по столбцу Tenure\n",
    "df['Tenure'].value_counts(dropna=False)"
   ]
  },
  {
   "cell_type": "code",
   "execution_count": 9,
   "metadata": {},
   "outputs": [
    {
     "data": {
      "image/png": "[encoded data removed]",
      "text/plain": [
       "<Figure size 432x288 with 1 Axes>"
      ]
     },
     "metadata": {
      "needs_background": "light"
     },
     "output_type": "display_data"
    }
   ],
   "source": [
    "# построим гистограмму по столбцу Tenure\n",
    "df['Tenure'].hist(bins=11)\n",
    "plt.show()"
   ]
  },
  {
   "cell_type": "markdown",
   "metadata": {},
   "source": [
    "в столбце Tenure менее 10% пропусков, так как природа их возникновения нам не известна, поэтому заполним пропущенные значение случайными числами:"
   ]
  },
  {
   "cell_type": "code",
   "execution_count": 22,
   "metadata": {},
   "outputs": [],
   "source": [
    "data = (np.random.randint(0,10,size=df['Tenure'].isna().sum()))\n",
    "df.loc[df['Tenure'].isna(),'Tenure']=data"
   ]
  },
  {
   "cell_type": "code",
   "execution_count": 15,
   "metadata": {},
   "outputs": [],
   "source": [
    "weights = df['Tenure'].value_counts(normalize=True)\n",
    "nulls = df[df['Tenure'].isna()]['Tenure']\n",
    "new_df = random.choices(weights.index, weights=weights, k=len(nulls))\n",
    "df['Tenure'] = df['Tenure'].fillna(pd.Series(new_df, index=nulls.index))"
   ]
  },
  {
   "cell_type": "code",
   "execution_count": 16,
   "metadata": {},
   "outputs": [
    {
     "name": "stdout",
     "output_type": "stream",
     "text": [
      "<class 'pandas.core.frame.DataFrame'>\n",
      "RangeIndex: 10000 entries, 0 to 9999\n",
      "Data columns (total 14 columns):\n",
      " #   Column           Non-Null Count  Dtype  \n",
      "---  ------           --------------  -----  \n",
      " 0   RowNumber        10000 non-null  int64  \n",
      " 1   CustomerId       10000 non-null  int64  \n",
      " 2   Surname          10000 non-null  object \n",
      " 3   CreditScore      10000 non-null  int64  \n",
      " 4   Geography        10000 non-null  object \n",
      " 5   Gender           10000 non-null  object \n",
      " 6   Age              10000 non-null  int64  \n",
      " 7   Tenure           10000 non-null  float64\n",
      " 8   Balance          10000 non-null  float64\n",
      " 9   NumOfProducts    10000 non-null  int64  \n",
      " 10  HasCrCard        10000 non-null  int64  \n",
      " 11  IsActiveMember   10000 non-null  int64  \n",
      " 12  EstimatedSalary  10000 non-null  float64\n",
      " 13  Exited           10000 non-null  int64  \n",
      "dtypes: float64(3), int64(8), object(3)\n",
      "memory usage: 1.1+ MB\n"
     ]
    }
   ],
   "source": [
    "df.info()"
   ]
  },
  {
   "cell_type": "code",
   "execution_count": 20,
   "metadata": {},
   "outputs": [
    {
     "data": {
      "image/png": "[encoded data removed]",
      "text/plain": [
       "<Figure size 432x288 with 1 Axes>"
      ]
     },
     "metadata": {
      "needs_background": "light"
     },
     "output_type": "display_data"
    }
   ],
   "source": [
    "# Посмотрим повторно гистограмму по столбцу Tenure\n",
    "df['Tenure'].hist(bins=11)\n",
    "plt.show()"
   ]
  },
  {
   "cell_type": "markdown",
   "metadata": {},
   "source": [
    "Так же в данных имеются столбцы, которые не нужны для обуения моделей, удаляем их:"
   ]
  },
  {
   "cell_type": "code",
   "execution_count": 21,
   "metadata": {},
   "outputs": [
    {
     "name": "stdout",
     "output_type": "stream",
     "text": [
      "<class 'pandas.core.frame.DataFrame'>\n",
      "RangeIndex: 10000 entries, 0 to 9999\n",
      "Data columns (total 11 columns):\n",
      " #   Column           Non-Null Count  Dtype  \n",
      "---  ------           --------------  -----  \n",
      " 0   CreditScore      10000 non-null  int64  \n",
      " 1   Geography        10000 non-null  object \n",
      " 2   Gender           10000 non-null  object \n",
      " 3   Age              10000 non-null  int64  \n",
      " 4   Tenure           10000 non-null  float64\n",
      " 5   Balance          10000 non-null  float64\n",
      " 6   NumOfProducts    10000 non-null  int64  \n",
      " 7   HasCrCard        10000 non-null  int64  \n",
      " 8   IsActiveMember   10000 non-null  int64  \n",
      " 9   EstimatedSalary  10000 non-null  float64\n",
      " 10  Exited           10000 non-null  int64  \n",
      "dtypes: float64(3), int64(6), object(2)\n",
      "memory usage: 859.5+ KB\n"
     ]
    }
   ],
   "source": [
    "df = df.drop(['RowNumber', 'CustomerId', 'Surname'], axis=1)\n",
    "df.info()"
   ]
  },
  {
   "cell_type": "code",
   "execution_count": 22,
   "metadata": {},
   "outputs": [
    {
     "data": {
      "text/plain": [
       "Male      5457\n",
       "Female    4543\n",
       "Name: Gender, dtype: int64"
      ]
     },
     "execution_count": 22,
     "metadata": {},
     "output_type": "execute_result"
    }
   ],
   "source": [
    "#посмотрим на значения по стобцу\n",
    "df['Gender'].value_counts()"
   ]
  },
  {
   "cell_type": "code",
   "execution_count": 23,
   "metadata": {},
   "outputs": [
    {
     "data": {
      "text/plain": [
       "France     5014\n",
       "Germany    2509\n",
       "Spain      2477\n",
       "Name: Geography, dtype: int64"
      ]
     },
     "execution_count": 23,
     "metadata": {},
     "output_type": "execute_result"
    }
   ],
   "source": [
    "#посмотрим на значения по стобцу\n",
    "df['Geography'].value_counts()"
   ]
  },
  {
   "cell_type": "markdown",
   "metadata": {},
   "source": [
    "категорийные значения в столбцах 'Geography' и 'Gender' преобразуем в числа техникой OHE"
   ]
  },
  {
   "cell_type": "code",
   "execution_count": 24,
   "metadata": {},
   "outputs": [
    {
     "name": "stdout",
     "output_type": "stream",
     "text": [
      "<class 'pandas.core.frame.DataFrame'>\n",
      "RangeIndex: 10000 entries, 0 to 9999\n",
      "Data columns (total 12 columns):\n",
      " #   Column             Non-Null Count  Dtype  \n",
      "---  ------             --------------  -----  \n",
      " 0   CreditScore        10000 non-null  int64  \n",
      " 1   Age                10000 non-null  int64  \n",
      " 2   Tenure             10000 non-null  float64\n",
      " 3   Balance            10000 non-null  float64\n",
      " 4   NumOfProducts      10000 non-null  int64  \n",
      " 5   HasCrCard          10000 non-null  int64  \n",
      " 6   IsActiveMember     10000 non-null  int64  \n",
      " 7   EstimatedSalary    10000 non-null  float64\n",
      " 8   Exited             10000 non-null  int64  \n",
      " 9   Geography_Germany  10000 non-null  uint8  \n",
      " 10  Geography_Spain    10000 non-null  uint8  \n",
      " 11  Gender_Male        10000 non-null  uint8  \n",
      "dtypes: float64(3), int64(6), uint8(3)\n",
      "memory usage: 732.5 KB\n"
     ]
    }
   ],
   "source": [
    "#избавляемся от дамми лавушки\n",
    "df = pd.get_dummies(df, columns=['Geography', 'Gender'], drop_first=True)\n",
    "df.info()"
   ]
  },
  {
   "cell_type": "code",
   "execution_count": 25,
   "metadata": {},
   "outputs": [
    {
     "data": {
      "text/html": [
       "<div>\n",
       "<style scoped>\n",
       "    .dataframe tbody tr th:only-of-type {\n",
       "        vertical-align: middle;\n",
       "    }\n",
       "\n",
       "    .dataframe tbody tr th {\n",
       "        vertical-align: top;\n",
       "    }\n",
       "\n",
       "    .dataframe thead th {\n",
       "        text-align: right;\n",
       "    }\n",
       "</style>\n",
       "<table border=\"1\" class=\"dataframe\">\n",
       "  <thead>\n",
       "    <tr style=\"text-align: right;\">\n",
       "      <th></th>\n",
       "      <th>CreditScore</th>\n",
       "      <th>Age</th>\n",
       "      <th>Tenure</th>\n",
       "      <th>Balance</th>\n",
       "      <th>NumOfProducts</th>\n",
       "      <th>HasCrCard</th>\n",
       "      <th>IsActiveMember</th>\n",
       "      <th>EstimatedSalary</th>\n",
       "      <th>Exited</th>\n",
       "      <th>Geography_Germany</th>\n",
       "      <th>Geography_Spain</th>\n",
       "      <th>Gender_Male</th>\n",
       "    </tr>\n",
       "  </thead>\n",
       "  <tbody>\n",
       "    <tr>\n",
       "      <th>6827</th>\n",
       "      <td>718</td>\n",
       "      <td>49</td>\n",
       "      <td>10.0</td>\n",
       "      <td>0.00</td>\n",
       "      <td>1</td>\n",
       "      <td>1</td>\n",
       "      <td>0</td>\n",
       "      <td>184474.72</td>\n",
       "      <td>1</td>\n",
       "      <td>0</td>\n",
       "      <td>0</td>\n",
       "      <td>0</td>\n",
       "    </tr>\n",
       "    <tr>\n",
       "      <th>6391</th>\n",
       "      <td>726</td>\n",
       "      <td>38</td>\n",
       "      <td>5.0</td>\n",
       "      <td>126875.62</td>\n",
       "      <td>1</td>\n",
       "      <td>1</td>\n",
       "      <td>0</td>\n",
       "      <td>128052.29</td>\n",
       "      <td>0</td>\n",
       "      <td>0</td>\n",
       "      <td>0</td>\n",
       "      <td>0</td>\n",
       "    </tr>\n",
       "    <tr>\n",
       "      <th>7688</th>\n",
       "      <td>713</td>\n",
       "      <td>45</td>\n",
       "      <td>4.0</td>\n",
       "      <td>131038.14</td>\n",
       "      <td>1</td>\n",
       "      <td>1</td>\n",
       "      <td>0</td>\n",
       "      <td>74005.04</td>\n",
       "      <td>1</td>\n",
       "      <td>1</td>\n",
       "      <td>0</td>\n",
       "      <td>1</td>\n",
       "    </tr>\n",
       "    <tr>\n",
       "      <th>7488</th>\n",
       "      <td>538</td>\n",
       "      <td>42</td>\n",
       "      <td>4.0</td>\n",
       "      <td>80380.24</td>\n",
       "      <td>1</td>\n",
       "      <td>1</td>\n",
       "      <td>0</td>\n",
       "      <td>119216.46</td>\n",
       "      <td>0</td>\n",
       "      <td>1</td>\n",
       "      <td>0</td>\n",
       "      <td>0</td>\n",
       "    </tr>\n",
       "    <tr>\n",
       "      <th>6107</th>\n",
       "      <td>703</td>\n",
       "      <td>35</td>\n",
       "      <td>5.0</td>\n",
       "      <td>140691.08</td>\n",
       "      <td>2</td>\n",
       "      <td>1</td>\n",
       "      <td>0</td>\n",
       "      <td>167810.26</td>\n",
       "      <td>0</td>\n",
       "      <td>1</td>\n",
       "      <td>0</td>\n",
       "      <td>1</td>\n",
       "    </tr>\n",
       "    <tr>\n",
       "      <th>9608</th>\n",
       "      <td>700</td>\n",
       "      <td>44</td>\n",
       "      <td>9.0</td>\n",
       "      <td>0.00</td>\n",
       "      <td>2</td>\n",
       "      <td>1</td>\n",
       "      <td>0</td>\n",
       "      <td>142287.65</td>\n",
       "      <td>0</td>\n",
       "      <td>0</td>\n",
       "      <td>1</td>\n",
       "      <td>1</td>\n",
       "    </tr>\n",
       "    <tr>\n",
       "      <th>8780</th>\n",
       "      <td>820</td>\n",
       "      <td>39</td>\n",
       "      <td>9.0</td>\n",
       "      <td>111336.89</td>\n",
       "      <td>1</td>\n",
       "      <td>1</td>\n",
       "      <td>0</td>\n",
       "      <td>16770.31</td>\n",
       "      <td>1</td>\n",
       "      <td>1</td>\n",
       "      <td>0</td>\n",
       "      <td>1</td>\n",
       "    </tr>\n",
       "    <tr>\n",
       "      <th>5195</th>\n",
       "      <td>850</td>\n",
       "      <td>38</td>\n",
       "      <td>2.0</td>\n",
       "      <td>94652.04</td>\n",
       "      <td>1</td>\n",
       "      <td>1</td>\n",
       "      <td>1</td>\n",
       "      <td>171960.76</td>\n",
       "      <td>0</td>\n",
       "      <td>0</td>\n",
       "      <td>1</td>\n",
       "      <td>1</td>\n",
       "    </tr>\n",
       "    <tr>\n",
       "      <th>6449</th>\n",
       "      <td>693</td>\n",
       "      <td>45</td>\n",
       "      <td>2.0</td>\n",
       "      <td>116546.59</td>\n",
       "      <td>2</td>\n",
       "      <td>0</td>\n",
       "      <td>0</td>\n",
       "      <td>23140.28</td>\n",
       "      <td>1</td>\n",
       "      <td>1</td>\n",
       "      <td>0</td>\n",
       "      <td>1</td>\n",
       "    </tr>\n",
       "    <tr>\n",
       "      <th>6553</th>\n",
       "      <td>638</td>\n",
       "      <td>50</td>\n",
       "      <td>1.0</td>\n",
       "      <td>102645.48</td>\n",
       "      <td>1</td>\n",
       "      <td>1</td>\n",
       "      <td>0</td>\n",
       "      <td>168359.98</td>\n",
       "      <td>1</td>\n",
       "      <td>1</td>\n",
       "      <td>0</td>\n",
       "      <td>1</td>\n",
       "    </tr>\n",
       "  </tbody>\n",
       "</table>\n",
       "</div>"
      ],
      "text/plain": [
       "      CreditScore  Age  Tenure    Balance  NumOfProducts  HasCrCard  \\\n",
       "6827          718   49    10.0       0.00              1          1   \n",
       "6391          726   38     5.0  126875.62              1          1   \n",
       "7688          713   45     4.0  131038.14              1          1   \n",
       "7488          538   42     4.0   80380.24              1          1   \n",
       "6107          703   35     5.0  140691.08              2          1   \n",
       "9608          700   44     9.0       0.00              2          1   \n",
       "8780          820   39     9.0  111336.89              1          1   \n",
       "5195          850   38     2.0   94652.04              1          1   \n",
       "6449          693   45     2.0  116546.59              2          0   \n",
       "6553          638   50     1.0  102645.48              1          1   \n",
       "\n",
       "      IsActiveMember  EstimatedSalary  Exited  Geography_Germany  \\\n",
       "6827               0        184474.72       1                  0   \n",
       "6391               0        128052.29       0                  0   \n",
       "7688               0         74005.04       1                  1   \n",
       "7488               0        119216.46       0                  1   \n",
       "6107               0        167810.26       0                  1   \n",
       "9608               0        142287.65       0                  0   \n",
       "8780               0         16770.31       1                  1   \n",
       "5195               1        171960.76       0                  0   \n",
       "6449               0         23140.28       1                  1   \n",
       "6553               0        168359.98       1                  1   \n",
       "\n",
       "      Geography_Spain  Gender_Male  \n",
       "6827                0            0  \n",
       "6391                0            0  \n",
       "7688                0            1  \n",
       "7488                0            0  \n",
       "6107                0            1  \n",
       "9608                1            1  \n",
       "8780                0            1  \n",
       "5195                1            1  \n",
       "6449                0            1  \n",
       "6553                0            1  "
      ]
     },
     "execution_count": 25,
     "metadata": {},
     "output_type": "execute_result"
    }
   ],
   "source": [
    "df.sample(10)"
   ]
  },
  {
   "cell_type": "code",
   "execution_count": 26,
   "metadata": {},
   "outputs": [
    {
     "data": {
      "text/plain": [
       "0"
      ]
     },
     "execution_count": 26,
     "metadata": {},
     "output_type": "execute_result"
    }
   ],
   "source": [
    "df.duplicated().sum()"
   ]
  },
  {
   "cell_type": "markdown",
   "metadata": {},
   "source": [
    "полных дубликатов нет идем дальше"
   ]
  },
  {
   "cell_type": "markdown",
   "metadata": {},
   "source": [
    "#### Формируем выбороки: обучающая, валидационная, тестовая"
   ]
  },
  {
   "cell_type": "markdown",
   "metadata": {},
   "source": [
    "так как спрятанной тестовой выборки нет, разбиваем данные на три части:обучающую, валидационную и тестовую в соотношении 3:1:1."
   ]
  },
  {
   "cell_type": "code",
   "execution_count": 27,
   "metadata": {},
   "outputs": [],
   "source": [
    "#разделим на признаки и целевой признак\n",
    "features = df.drop('Exited', axis=1)\n",
    "target = df['Exited']"
   ]
  },
  {
   "cell_type": "code",
   "execution_count": 28,
   "metadata": {},
   "outputs": [
    {
     "data": {
      "text/html": [
       "<div>\n",
       "<style scoped>\n",
       "    .dataframe tbody tr th:only-of-type {\n",
       "        vertical-align: middle;\n",
       "    }\n",
       "\n",
       "    .dataframe tbody tr th {\n",
       "        vertical-align: top;\n",
       "    }\n",
       "\n",
       "    .dataframe thead th {\n",
       "        text-align: right;\n",
       "    }\n",
       "</style>\n",
       "<table border=\"1\" class=\"dataframe\">\n",
       "  <thead>\n",
       "    <tr style=\"text-align: right;\">\n",
       "      <th></th>\n",
       "      <th>CreditScore</th>\n",
       "      <th>Age</th>\n",
       "      <th>Tenure</th>\n",
       "      <th>Balance</th>\n",
       "      <th>NumOfProducts</th>\n",
       "      <th>HasCrCard</th>\n",
       "      <th>IsActiveMember</th>\n",
       "      <th>EstimatedSalary</th>\n",
       "      <th>Geography_Germany</th>\n",
       "      <th>Geography_Spain</th>\n",
       "      <th>Gender_Male</th>\n",
       "    </tr>\n",
       "  </thead>\n",
       "  <tbody>\n",
       "    <tr>\n",
       "      <th>8521</th>\n",
       "      <td>545</td>\n",
       "      <td>37</td>\n",
       "      <td>3.0</td>\n",
       "      <td>91184.01</td>\n",
       "      <td>1</td>\n",
       "      <td>1</td>\n",
       "      <td>0</td>\n",
       "      <td>105476.65</td>\n",
       "      <td>0</td>\n",
       "      <td>0</td>\n",
       "      <td>1</td>\n",
       "    </tr>\n",
       "    <tr>\n",
       "      <th>9905</th>\n",
       "      <td>645</td>\n",
       "      <td>41</td>\n",
       "      <td>2.0</td>\n",
       "      <td>93925.30</td>\n",
       "      <td>1</td>\n",
       "      <td>1</td>\n",
       "      <td>0</td>\n",
       "      <td>123982.14</td>\n",
       "      <td>1</td>\n",
       "      <td>0</td>\n",
       "      <td>1</td>\n",
       "    </tr>\n",
       "    <tr>\n",
       "      <th>6182</th>\n",
       "      <td>709</td>\n",
       "      <td>37</td>\n",
       "      <td>9.0</td>\n",
       "      <td>0.00</td>\n",
       "      <td>2</td>\n",
       "      <td>1</td>\n",
       "      <td>0</td>\n",
       "      <td>16733.59</td>\n",
       "      <td>0</td>\n",
       "      <td>0</td>\n",
       "      <td>0</td>\n",
       "    </tr>\n",
       "    <tr>\n",
       "      <th>9033</th>\n",
       "      <td>806</td>\n",
       "      <td>34</td>\n",
       "      <td>2.0</td>\n",
       "      <td>96152.68</td>\n",
       "      <td>2</td>\n",
       "      <td>1</td>\n",
       "      <td>0</td>\n",
       "      <td>143711.02</td>\n",
       "      <td>1</td>\n",
       "      <td>0</td>\n",
       "      <td>1</td>\n",
       "    </tr>\n",
       "    <tr>\n",
       "      <th>5368</th>\n",
       "      <td>538</td>\n",
       "      <td>62</td>\n",
       "      <td>3.0</td>\n",
       "      <td>75051.49</td>\n",
       "      <td>1</td>\n",
       "      <td>0</td>\n",
       "      <td>0</td>\n",
       "      <td>17682.02</td>\n",
       "      <td>0</td>\n",
       "      <td>0</td>\n",
       "      <td>0</td>\n",
       "    </tr>\n",
       "  </tbody>\n",
       "</table>\n",
       "</div>"
      ],
      "text/plain": [
       "      CreditScore  Age  Tenure   Balance  NumOfProducts  HasCrCard  \\\n",
       "8521          545   37     3.0  91184.01              1          1   \n",
       "9905          645   41     2.0  93925.30              1          1   \n",
       "6182          709   37     9.0      0.00              2          1   \n",
       "9033          806   34     2.0  96152.68              2          1   \n",
       "5368          538   62     3.0  75051.49              1          0   \n",
       "\n",
       "      IsActiveMember  EstimatedSalary  Geography_Germany  Geography_Spain  \\\n",
       "8521               0        105476.65                  0                0   \n",
       "9905               0        123982.14                  1                0   \n",
       "6182               0         16733.59                  0                0   \n",
       "9033               0        143711.02                  1                0   \n",
       "5368               0         17682.02                  0                0   \n",
       "\n",
       "      Gender_Male  \n",
       "8521            1  \n",
       "9905            1  \n",
       "6182            0  \n",
       "9033            1  \n",
       "5368            0  "
      ]
     },
     "execution_count": 28,
     "metadata": {},
     "output_type": "execute_result"
    }
   ],
   "source": [
    "features.sample(5)"
   ]
  },
  {
   "cell_type": "code",
   "execution_count": 29,
   "metadata": {},
   "outputs": [
    {
     "data": {
      "text/plain": [
       "2383    0\n",
       "4249    0\n",
       "9574    0\n",
       "3199    1\n",
       "7668    0\n",
       "Name: Exited, dtype: int64"
      ]
     },
     "execution_count": 29,
     "metadata": {},
     "output_type": "execute_result"
    }
   ],
   "source": [
    "target.sample(5)"
   ]
  },
  {
   "cell_type": "code",
   "execution_count": 30,
   "metadata": {},
   "outputs": [],
   "source": [
    "RANDOM_STATE=12345"
   ]
  },
  {
   "cell_type": "code",
   "execution_count": 31,
   "metadata": {},
   "outputs": [],
   "source": [
    "#Разбиваем данные на обучающую/валидационную и тестовую выборку\n",
    "features_train_val, features_test, target_train_val, target_test = train_test_split(features, target, test_size=0.2, stratify=target, random_state=RANDOM_STATE)"
   ]
  },
  {
   "cell_type": "code",
   "execution_count": 32,
   "metadata": {},
   "outputs": [
    {
     "data": {
      "text/plain": [
       "(8000, 11)"
      ]
     },
     "execution_count": 32,
     "metadata": {},
     "output_type": "execute_result"
    }
   ],
   "source": [
    "features_train_val.shape"
   ]
  },
  {
   "cell_type": "code",
   "execution_count": 33,
   "metadata": {
    "scrolled": true
   },
   "outputs": [
    {
     "data": {
      "text/plain": [
       "(2000, 11)"
      ]
     },
     "execution_count": 33,
     "metadata": {},
     "output_type": "execute_result"
    }
   ],
   "source": [
    "features_test.shape"
   ]
  },
  {
   "cell_type": "code",
   "execution_count": 34,
   "metadata": {},
   "outputs": [
    {
     "data": {
      "text/plain": [
       "(8000,)"
      ]
     },
     "execution_count": 34,
     "metadata": {},
     "output_type": "execute_result"
    }
   ],
   "source": [
    "target_train_val.shape"
   ]
  },
  {
   "cell_type": "code",
   "execution_count": 35,
   "metadata": {},
   "outputs": [
    {
     "data": {
      "text/plain": [
       "(2000,)"
      ]
     },
     "execution_count": 35,
     "metadata": {},
     "output_type": "execute_result"
    }
   ],
   "source": [
    "target_test.shape"
   ]
  },
  {
   "cell_type": "code",
   "execution_count": 36,
   "metadata": {},
   "outputs": [],
   "source": [
    "#Далее разделим обучающую и валидационную выборки\n",
    "features_train, features_val, target_train, target_val = train_test_split(features_train_val, target_train_val, test_size=0.25, stratify=target_train_val, random_state=RANDOM_STATE)"
   ]
  },
  {
   "cell_type": "code",
   "execution_count": 37,
   "metadata": {},
   "outputs": [
    {
     "data": {
      "text/plain": [
       "(6000, 11)"
      ]
     },
     "execution_count": 37,
     "metadata": {},
     "output_type": "execute_result"
    }
   ],
   "source": [
    "features_train.shape"
   ]
  },
  {
   "cell_type": "code",
   "execution_count": 38,
   "metadata": {},
   "outputs": [
    {
     "data": {
      "text/plain": [
       "(2000, 11)"
      ]
     },
     "execution_count": 38,
     "metadata": {},
     "output_type": "execute_result"
    }
   ],
   "source": [
    "features_val.shape"
   ]
  },
  {
   "cell_type": "code",
   "execution_count": 39,
   "metadata": {},
   "outputs": [
    {
     "data": {
      "text/plain": [
       "(6000,)"
      ]
     },
     "execution_count": 39,
     "metadata": {},
     "output_type": "execute_result"
    }
   ],
   "source": [
    "target_train.shape"
   ]
  },
  {
   "cell_type": "code",
   "execution_count": 40,
   "metadata": {},
   "outputs": [
    {
     "data": {
      "text/plain": [
       "(2000,)"
      ]
     },
     "execution_count": 40,
     "metadata": {},
     "output_type": "execute_result"
    }
   ],
   "source": [
    "target_val.shape"
   ]
  },
  {
   "cell_type": "markdown",
   "metadata": {},
   "source": [
    "#### Масштабируем признаки"
   ]
  },
  {
   "cell_type": "code",
   "execution_count": 41,
   "metadata": {},
   "outputs": [
    {
     "data": {
      "text/html": [
       "<div>\n",
       "<style scoped>\n",
       "    .dataframe tbody tr th:only-of-type {\n",
       "        vertical-align: middle;\n",
       "    }\n",
       "\n",
       "    .dataframe tbody tr th {\n",
       "        vertical-align: top;\n",
       "    }\n",
       "\n",
       "    .dataframe thead th {\n",
       "        text-align: right;\n",
       "    }\n",
       "</style>\n",
       "<table border=\"1\" class=\"dataframe\">\n",
       "  <thead>\n",
       "    <tr style=\"text-align: right;\">\n",
       "      <th></th>\n",
       "      <th>CreditScore</th>\n",
       "      <th>Age</th>\n",
       "      <th>Tenure</th>\n",
       "      <th>Balance</th>\n",
       "      <th>NumOfProducts</th>\n",
       "      <th>HasCrCard</th>\n",
       "      <th>IsActiveMember</th>\n",
       "      <th>EstimatedSalary</th>\n",
       "      <th>Geography_Germany</th>\n",
       "      <th>Geography_Spain</th>\n",
       "      <th>Gender_Male</th>\n",
       "    </tr>\n",
       "  </thead>\n",
       "  <tbody>\n",
       "    <tr>\n",
       "      <th>5536</th>\n",
       "      <td>636</td>\n",
       "      <td>45</td>\n",
       "      <td>7.0</td>\n",
       "      <td>0.00</td>\n",
       "      <td>2</td>\n",
       "      <td>1</td>\n",
       "      <td>1</td>\n",
       "      <td>159463.80</td>\n",
       "      <td>0</td>\n",
       "      <td>1</td>\n",
       "      <td>1</td>\n",
       "    </tr>\n",
       "    <tr>\n",
       "      <th>8530</th>\n",
       "      <td>808</td>\n",
       "      <td>33</td>\n",
       "      <td>2.0</td>\n",
       "      <td>103516.87</td>\n",
       "      <td>1</td>\n",
       "      <td>1</td>\n",
       "      <td>0</td>\n",
       "      <td>113907.80</td>\n",
       "      <td>0</td>\n",
       "      <td>0</td>\n",
       "      <td>0</td>\n",
       "    </tr>\n",
       "    <tr>\n",
       "      <th>1762</th>\n",
       "      <td>758</td>\n",
       "      <td>34</td>\n",
       "      <td>1.0</td>\n",
       "      <td>154139.45</td>\n",
       "      <td>1</td>\n",
       "      <td>1</td>\n",
       "      <td>1</td>\n",
       "      <td>60728.89</td>\n",
       "      <td>0</td>\n",
       "      <td>0</td>\n",
       "      <td>0</td>\n",
       "    </tr>\n",
       "    <tr>\n",
       "      <th>9090</th>\n",
       "      <td>809</td>\n",
       "      <td>39</td>\n",
       "      <td>5.0</td>\n",
       "      <td>0.00</td>\n",
       "      <td>1</td>\n",
       "      <td>1</td>\n",
       "      <td>0</td>\n",
       "      <td>77705.75</td>\n",
       "      <td>0</td>\n",
       "      <td>0</td>\n",
       "      <td>0</td>\n",
       "    </tr>\n",
       "    <tr>\n",
       "      <th>8777</th>\n",
       "      <td>603</td>\n",
       "      <td>24</td>\n",
       "      <td>1.0</td>\n",
       "      <td>165149.13</td>\n",
       "      <td>2</td>\n",
       "      <td>1</td>\n",
       "      <td>0</td>\n",
       "      <td>21858.28</td>\n",
       "      <td>0</td>\n",
       "      <td>1</td>\n",
       "      <td>1</td>\n",
       "    </tr>\n",
       "  </tbody>\n",
       "</table>\n",
       "</div>"
      ],
      "text/plain": [
       "      CreditScore  Age  Tenure    Balance  NumOfProducts  HasCrCard  \\\n",
       "5536          636   45     7.0       0.00              2          1   \n",
       "8530          808   33     2.0  103516.87              1          1   \n",
       "1762          758   34     1.0  154139.45              1          1   \n",
       "9090          809   39     5.0       0.00              1          1   \n",
       "8777          603   24     1.0  165149.13              2          1   \n",
       "\n",
       "      IsActiveMember  EstimatedSalary  Geography_Germany  Geography_Spain  \\\n",
       "5536               1        159463.80                  0                1   \n",
       "8530               0        113907.80                  0                0   \n",
       "1762               1         60728.89                  0                0   \n",
       "9090               0         77705.75                  0                0   \n",
       "8777               0         21858.28                  0                1   \n",
       "\n",
       "      Gender_Male  \n",
       "5536            1  \n",
       "8530            0  \n",
       "1762            0  \n",
       "9090            0  \n",
       "8777            1  "
      ]
     },
     "execution_count": 41,
     "metadata": {},
     "output_type": "execute_result"
    }
   ],
   "source": [
    "features_train.head()"
   ]
  },
  {
   "cell_type": "code",
   "execution_count": 42,
   "metadata": {},
   "outputs": [],
   "source": [
    "#численные признаки для масштабирования \n",
    "numeric = ['CreditScore', 'Age', 'Tenure', 'Balance', 'NumOfProducts', 'EstimatedSalary']"
   ]
  },
  {
   "cell_type": "code",
   "execution_count": 43,
   "metadata": {},
   "outputs": [
    {
     "data": {
      "text/html": [
       "<div>\n",
       "<style scoped>\n",
       "    .dataframe tbody tr th:only-of-type {\n",
       "        vertical-align: middle;\n",
       "    }\n",
       "\n",
       "    .dataframe tbody tr th {\n",
       "        vertical-align: top;\n",
       "    }\n",
       "\n",
       "    .dataframe thead th {\n",
       "        text-align: right;\n",
       "    }\n",
       "</style>\n",
       "<table border=\"1\" class=\"dataframe\">\n",
       "  <thead>\n",
       "    <tr style=\"text-align: right;\">\n",
       "      <th></th>\n",
       "      <th>CreditScore</th>\n",
       "      <th>Age</th>\n",
       "      <th>Tenure</th>\n",
       "      <th>Balance</th>\n",
       "      <th>NumOfProducts</th>\n",
       "      <th>EstimatedSalary</th>\n",
       "    </tr>\n",
       "  </thead>\n",
       "  <tbody>\n",
       "    <tr>\n",
       "      <th>count</th>\n",
       "      <td>10000.000000</td>\n",
       "      <td>10000.000000</td>\n",
       "      <td>10000.000000</td>\n",
       "      <td>10000.000000</td>\n",
       "      <td>10000.000000</td>\n",
       "      <td>10000.000000</td>\n",
       "    </tr>\n",
       "    <tr>\n",
       "      <th>mean</th>\n",
       "      <td>650.528800</td>\n",
       "      <td>38.921800</td>\n",
       "      <td>4.989900</td>\n",
       "      <td>76485.889288</td>\n",
       "      <td>1.530200</td>\n",
       "      <td>100090.239881</td>\n",
       "    </tr>\n",
       "    <tr>\n",
       "      <th>std</th>\n",
       "      <td>96.653299</td>\n",
       "      <td>10.487806</td>\n",
       "      <td>2.892756</td>\n",
       "      <td>62397.405202</td>\n",
       "      <td>0.581654</td>\n",
       "      <td>57510.492818</td>\n",
       "    </tr>\n",
       "    <tr>\n",
       "      <th>min</th>\n",
       "      <td>350.000000</td>\n",
       "      <td>18.000000</td>\n",
       "      <td>0.000000</td>\n",
       "      <td>0.000000</td>\n",
       "      <td>1.000000</td>\n",
       "      <td>11.580000</td>\n",
       "    </tr>\n",
       "    <tr>\n",
       "      <th>25%</th>\n",
       "      <td>584.000000</td>\n",
       "      <td>32.000000</td>\n",
       "      <td>2.000000</td>\n",
       "      <td>0.000000</td>\n",
       "      <td>1.000000</td>\n",
       "      <td>51002.110000</td>\n",
       "    </tr>\n",
       "    <tr>\n",
       "      <th>50%</th>\n",
       "      <td>652.000000</td>\n",
       "      <td>37.000000</td>\n",
       "      <td>5.000000</td>\n",
       "      <td>97198.540000</td>\n",
       "      <td>1.000000</td>\n",
       "      <td>100193.915000</td>\n",
       "    </tr>\n",
       "    <tr>\n",
       "      <th>75%</th>\n",
       "      <td>718.000000</td>\n",
       "      <td>44.000000</td>\n",
       "      <td>7.000000</td>\n",
       "      <td>127644.240000</td>\n",
       "      <td>2.000000</td>\n",
       "      <td>149388.247500</td>\n",
       "    </tr>\n",
       "    <tr>\n",
       "      <th>max</th>\n",
       "      <td>850.000000</td>\n",
       "      <td>92.000000</td>\n",
       "      <td>10.000000</td>\n",
       "      <td>250898.090000</td>\n",
       "      <td>4.000000</td>\n",
       "      <td>199992.480000</td>\n",
       "    </tr>\n",
       "  </tbody>\n",
       "</table>\n",
       "</div>"
      ],
      "text/plain": [
       "        CreditScore           Age        Tenure        Balance  NumOfProducts  \\\n",
       "count  10000.000000  10000.000000  10000.000000   10000.000000   10000.000000   \n",
       "mean     650.528800     38.921800      4.989900   76485.889288       1.530200   \n",
       "std       96.653299     10.487806      2.892756   62397.405202       0.581654   \n",
       "min      350.000000     18.000000      0.000000       0.000000       1.000000   \n",
       "25%      584.000000     32.000000      2.000000       0.000000       1.000000   \n",
       "50%      652.000000     37.000000      5.000000   97198.540000       1.000000   \n",
       "75%      718.000000     44.000000      7.000000  127644.240000       2.000000   \n",
       "max      850.000000     92.000000     10.000000  250898.090000       4.000000   \n",
       "\n",
       "       EstimatedSalary  \n",
       "count     10000.000000  \n",
       "mean     100090.239881  \n",
       "std       57510.492818  \n",
       "min          11.580000  \n",
       "25%       51002.110000  \n",
       "50%      100193.915000  \n",
       "75%      149388.247500  \n",
       "max      199992.480000  "
      ]
     },
     "execution_count": 43,
     "metadata": {},
     "output_type": "execute_result"
    }
   ],
   "source": [
    "# Проверим наличие аномальных значений по числовым столбцам\n",
    "df[numeric].describe()"
   ]
  },
  {
   "cell_type": "code",
   "execution_count": 44,
   "metadata": {},
   "outputs": [
    {
     "data": {
      "text/plain": [
       "StandardScaler(copy=True, with_mean=True, with_std=True)"
      ]
     },
     "execution_count": 44,
     "metadata": {},
     "output_type": "execute_result"
    }
   ],
   "source": [
    "#Создадим объект этой структуры и настроим его на обучающих данных:\n",
    "scaler = StandardScaler()\n",
    "scaler.fit(features_train[numeric])"
   ]
  },
  {
   "cell_type": "code",
   "execution_count": 45,
   "metadata": {},
   "outputs": [
    {
     "data": {
      "text/html": [
       "<div>\n",
       "<style scoped>\n",
       "    .dataframe tbody tr th:only-of-type {\n",
       "        vertical-align: middle;\n",
       "    }\n",
       "\n",
       "    .dataframe tbody tr th {\n",
       "        vertical-align: top;\n",
       "    }\n",
       "\n",
       "    .dataframe thead th {\n",
       "        text-align: right;\n",
       "    }\n",
       "</style>\n",
       "<table border=\"1\" class=\"dataframe\">\n",
       "  <thead>\n",
       "    <tr style=\"text-align: right;\">\n",
       "      <th></th>\n",
       "      <th>CreditScore</th>\n",
       "      <th>Age</th>\n",
       "      <th>Tenure</th>\n",
       "      <th>Balance</th>\n",
       "      <th>NumOfProducts</th>\n",
       "      <th>HasCrCard</th>\n",
       "      <th>IsActiveMember</th>\n",
       "      <th>EstimatedSalary</th>\n",
       "      <th>Geography_Germany</th>\n",
       "      <th>Geography_Spain</th>\n",
       "      <th>Gender_Male</th>\n",
       "    </tr>\n",
       "  </thead>\n",
       "  <tbody>\n",
       "    <tr>\n",
       "      <th>5536</th>\n",
       "      <td>-0.143332</td>\n",
       "      <td>0.577533</td>\n",
       "      <td>0.691735</td>\n",
       "      <td>-1.220573</td>\n",
       "      <td>0.797767</td>\n",
       "      <td>1</td>\n",
       "      <td>1</td>\n",
       "      <td>1.029613</td>\n",
       "      <td>0</td>\n",
       "      <td>1</td>\n",
       "      <td>1</td>\n",
       "    </tr>\n",
       "    <tr>\n",
       "      <th>8530</th>\n",
       "      <td>1.632702</td>\n",
       "      <td>-0.564119</td>\n",
       "      <td>-1.040924</td>\n",
       "      <td>0.435807</td>\n",
       "      <td>-0.916018</td>\n",
       "      <td>1</td>\n",
       "      <td>0</td>\n",
       "      <td>0.237986</td>\n",
       "      <td>0</td>\n",
       "      <td>0</td>\n",
       "      <td>0</td>\n",
       "    </tr>\n",
       "    <tr>\n",
       "      <th>1762</th>\n",
       "      <td>1.116413</td>\n",
       "      <td>-0.468981</td>\n",
       "      <td>-1.387455</td>\n",
       "      <td>1.245822</td>\n",
       "      <td>-0.916018</td>\n",
       "      <td>1</td>\n",
       "      <td>1</td>\n",
       "      <td>-0.686104</td>\n",
       "      <td>0</td>\n",
       "      <td>0</td>\n",
       "      <td>0</td>\n",
       "    </tr>\n",
       "    <tr>\n",
       "      <th>9090</th>\n",
       "      <td>1.643028</td>\n",
       "      <td>0.006707</td>\n",
       "      <td>-0.001328</td>\n",
       "      <td>-1.220573</td>\n",
       "      <td>-0.916018</td>\n",
       "      <td>1</td>\n",
       "      <td>0</td>\n",
       "      <td>-0.391097</td>\n",
       "      <td>0</td>\n",
       "      <td>0</td>\n",
       "      <td>0</td>\n",
       "    </tr>\n",
       "    <tr>\n",
       "      <th>8777</th>\n",
       "      <td>-0.484083</td>\n",
       "      <td>-1.420358</td>\n",
       "      <td>-1.387455</td>\n",
       "      <td>1.421989</td>\n",
       "      <td>0.797767</td>\n",
       "      <td>1</td>\n",
       "      <td>0</td>\n",
       "      <td>-1.361559</td>\n",
       "      <td>0</td>\n",
       "      <td>1</td>\n",
       "      <td>1</td>\n",
       "    </tr>\n",
       "  </tbody>\n",
       "</table>\n",
       "</div>"
      ],
      "text/plain": [
       "      CreditScore       Age    Tenure   Balance  NumOfProducts  HasCrCard  \\\n",
       "5536    -0.143332  0.577533  0.691735 -1.220573       0.797767          1   \n",
       "8530     1.632702 -0.564119 -1.040924  0.435807      -0.916018          1   \n",
       "1762     1.116413 -0.468981 -1.387455  1.245822      -0.916018          1   \n",
       "9090     1.643028  0.006707 -0.001328 -1.220573      -0.916018          1   \n",
       "8777    -0.484083 -1.420358 -1.387455  1.421989       0.797767          1   \n",
       "\n",
       "      IsActiveMember  EstimatedSalary  Geography_Germany  Geography_Spain  \\\n",
       "5536               1         1.029613                  0                1   \n",
       "8530               0         0.237986                  0                0   \n",
       "1762               1        -0.686104                  0                0   \n",
       "9090               0        -0.391097                  0                0   \n",
       "8777               0        -1.361559                  0                1   \n",
       "\n",
       "      Gender_Male  \n",
       "5536            1  \n",
       "8530            0  \n",
       "1762            0  \n",
       "9090            0  \n",
       "8777            1  "
      ]
     },
     "execution_count": 45,
     "metadata": {},
     "output_type": "execute_result"
    }
   ],
   "source": [
    "#Масштабируем численные признаки обучающей выборки \n",
    "features_train[numeric] = scaler.transform(features_train[numeric])\n",
    "features_train.head()"
   ]
  },
  {
   "cell_type": "code",
   "execution_count": 46,
   "metadata": {},
   "outputs": [
    {
     "data": {
      "text/html": [
       "<div>\n",
       "<style scoped>\n",
       "    .dataframe tbody tr th:only-of-type {\n",
       "        vertical-align: middle;\n",
       "    }\n",
       "\n",
       "    .dataframe tbody tr th {\n",
       "        vertical-align: top;\n",
       "    }\n",
       "\n",
       "    .dataframe thead th {\n",
       "        text-align: right;\n",
       "    }\n",
       "</style>\n",
       "<table border=\"1\" class=\"dataframe\">\n",
       "  <thead>\n",
       "    <tr style=\"text-align: right;\">\n",
       "      <th></th>\n",
       "      <th>CreditScore</th>\n",
       "      <th>Age</th>\n",
       "      <th>Tenure</th>\n",
       "      <th>Balance</th>\n",
       "      <th>NumOfProducts</th>\n",
       "      <th>HasCrCard</th>\n",
       "      <th>IsActiveMember</th>\n",
       "      <th>EstimatedSalary</th>\n",
       "      <th>Geography_Germany</th>\n",
       "      <th>Geography_Spain</th>\n",
       "      <th>Gender_Male</th>\n",
       "    </tr>\n",
       "  </thead>\n",
       "  <tbody>\n",
       "    <tr>\n",
       "      <th>9375</th>\n",
       "      <td>0.094161</td>\n",
       "      <td>0.862946</td>\n",
       "      <td>-0.347860</td>\n",
       "      <td>0.757050</td>\n",
       "      <td>0.797767</td>\n",
       "      <td>1</td>\n",
       "      <td>0</td>\n",
       "      <td>-0.308325</td>\n",
       "      <td>1</td>\n",
       "      <td>0</td>\n",
       "      <td>1</td>\n",
       "    </tr>\n",
       "    <tr>\n",
       "      <th>9536</th>\n",
       "      <td>-1.031349</td>\n",
       "      <td>0.292120</td>\n",
       "      <td>1.731331</td>\n",
       "      <td>0.838881</td>\n",
       "      <td>-0.916018</td>\n",
       "      <td>1</td>\n",
       "      <td>0</td>\n",
       "      <td>-0.645029</td>\n",
       "      <td>1</td>\n",
       "      <td>0</td>\n",
       "      <td>0</td>\n",
       "    </tr>\n",
       "    <tr>\n",
       "      <th>6344</th>\n",
       "      <td>2.066384</td>\n",
       "      <td>0.196983</td>\n",
       "      <td>-0.694392</td>\n",
       "      <td>-1.220573</td>\n",
       "      <td>0.797767</td>\n",
       "      <td>1</td>\n",
       "      <td>0</td>\n",
       "      <td>0.498373</td>\n",
       "      <td>0</td>\n",
       "      <td>0</td>\n",
       "      <td>1</td>\n",
       "    </tr>\n",
       "    <tr>\n",
       "      <th>4357</th>\n",
       "      <td>1.085435</td>\n",
       "      <td>-0.278706</td>\n",
       "      <td>1.038267</td>\n",
       "      <td>-1.220573</td>\n",
       "      <td>0.797767</td>\n",
       "      <td>1</td>\n",
       "      <td>0</td>\n",
       "      <td>1.331035</td>\n",
       "      <td>0</td>\n",
       "      <td>0</td>\n",
       "      <td>1</td>\n",
       "    </tr>\n",
       "    <tr>\n",
       "      <th>9120</th>\n",
       "      <td>0.548495</td>\n",
       "      <td>1.814323</td>\n",
       "      <td>-0.347860</td>\n",
       "      <td>0.266421</td>\n",
       "      <td>-0.916018</td>\n",
       "      <td>0</td>\n",
       "      <td>1</td>\n",
       "      <td>-0.261760</td>\n",
       "      <td>0</td>\n",
       "      <td>1</td>\n",
       "      <td>1</td>\n",
       "    </tr>\n",
       "  </tbody>\n",
       "</table>\n",
       "</div>"
      ],
      "text/plain": [
       "      CreditScore       Age    Tenure   Balance  NumOfProducts  HasCrCard  \\\n",
       "9375     0.094161  0.862946 -0.347860  0.757050       0.797767          1   \n",
       "9536    -1.031349  0.292120  1.731331  0.838881      -0.916018          1   \n",
       "6344     2.066384  0.196983 -0.694392 -1.220573       0.797767          1   \n",
       "4357     1.085435 -0.278706  1.038267 -1.220573       0.797767          1   \n",
       "9120     0.548495  1.814323 -0.347860  0.266421      -0.916018          0   \n",
       "\n",
       "      IsActiveMember  EstimatedSalary  Geography_Germany  Geography_Spain  \\\n",
       "9375               0        -0.308325                  1                0   \n",
       "9536               0        -0.645029                  1                0   \n",
       "6344               0         0.498373                  0                0   \n",
       "4357               0         1.331035                  0                0   \n",
       "9120               1        -0.261760                  0                1   \n",
       "\n",
       "      Gender_Male  \n",
       "9375            1  \n",
       "9536            0  \n",
       "6344            1  \n",
       "4357            1  \n",
       "9120            1  "
      ]
     },
     "execution_count": 46,
     "metadata": {},
     "output_type": "execute_result"
    }
   ],
   "source": [
    "#Масштабируем численные признаки валидационной выборки \n",
    "features_val[numeric] = scaler.transform(features_val[numeric])\n",
    "features_val.head()"
   ]
  },
  {
   "cell_type": "code",
   "execution_count": 47,
   "metadata": {},
   "outputs": [
    {
     "data": {
      "text/html": [
       "<div>\n",
       "<style scoped>\n",
       "    .dataframe tbody tr th:only-of-type {\n",
       "        vertical-align: middle;\n",
       "    }\n",
       "\n",
       "    .dataframe tbody tr th {\n",
       "        vertical-align: top;\n",
       "    }\n",
       "\n",
       "    .dataframe thead th {\n",
       "        text-align: right;\n",
       "    }\n",
       "</style>\n",
       "<table border=\"1\" class=\"dataframe\">\n",
       "  <thead>\n",
       "    <tr style=\"text-align: right;\">\n",
       "      <th></th>\n",
       "      <th>CreditScore</th>\n",
       "      <th>Age</th>\n",
       "      <th>Tenure</th>\n",
       "      <th>Balance</th>\n",
       "      <th>NumOfProducts</th>\n",
       "      <th>HasCrCard</th>\n",
       "      <th>IsActiveMember</th>\n",
       "      <th>EstimatedSalary</th>\n",
       "      <th>Geography_Germany</th>\n",
       "      <th>Geography_Spain</th>\n",
       "      <th>Gender_Male</th>\n",
       "    </tr>\n",
       "  </thead>\n",
       "  <tbody>\n",
       "    <tr>\n",
       "      <th>7837</th>\n",
       "      <td>2.066384</td>\n",
       "      <td>0.862946</td>\n",
       "      <td>-1.040924</td>\n",
       "      <td>-1.220573</td>\n",
       "      <td>-0.916018</td>\n",
       "      <td>1</td>\n",
       "      <td>0</td>\n",
       "      <td>1.202714</td>\n",
       "      <td>0</td>\n",
       "      <td>1</td>\n",
       "      <td>1</td>\n",
       "    </tr>\n",
       "    <tr>\n",
       "      <th>9505</th>\n",
       "      <td>0.011555</td>\n",
       "      <td>-1.039807</td>\n",
       "      <td>1.731331</td>\n",
       "      <td>0.052520</td>\n",
       "      <td>-0.916018</td>\n",
       "      <td>1</td>\n",
       "      <td>1</td>\n",
       "      <td>-0.443548</td>\n",
       "      <td>0</td>\n",
       "      <td>0</td>\n",
       "      <td>1</td>\n",
       "    </tr>\n",
       "    <tr>\n",
       "      <th>6208</th>\n",
       "      <td>0.662079</td>\n",
       "      <td>-0.468981</td>\n",
       "      <td>1.731331</td>\n",
       "      <td>-1.220573</td>\n",
       "      <td>0.797767</td>\n",
       "      <td>1</td>\n",
       "      <td>1</td>\n",
       "      <td>-0.347161</td>\n",
       "      <td>0</td>\n",
       "      <td>0</td>\n",
       "      <td>1</td>\n",
       "    </tr>\n",
       "    <tr>\n",
       "      <th>5642</th>\n",
       "      <td>1.364231</td>\n",
       "      <td>0.196983</td>\n",
       "      <td>-0.347860</td>\n",
       "      <td>-1.220573</td>\n",
       "      <td>-0.916018</td>\n",
       "      <td>1</td>\n",
       "      <td>0</td>\n",
       "      <td>0.568776</td>\n",
       "      <td>0</td>\n",
       "      <td>1</td>\n",
       "      <td>0</td>\n",
       "    </tr>\n",
       "    <tr>\n",
       "      <th>9643</th>\n",
       "      <td>-1.330797</td>\n",
       "      <td>0.196983</td>\n",
       "      <td>-1.040924</td>\n",
       "      <td>-1.220573</td>\n",
       "      <td>0.797767</td>\n",
       "      <td>1</td>\n",
       "      <td>1</td>\n",
       "      <td>0.223765</td>\n",
       "      <td>0</td>\n",
       "      <td>0</td>\n",
       "      <td>0</td>\n",
       "    </tr>\n",
       "  </tbody>\n",
       "</table>\n",
       "</div>"
      ],
      "text/plain": [
       "      CreditScore       Age    Tenure   Balance  NumOfProducts  HasCrCard  \\\n",
       "7837     2.066384  0.862946 -1.040924 -1.220573      -0.916018          1   \n",
       "9505     0.011555 -1.039807  1.731331  0.052520      -0.916018          1   \n",
       "6208     0.662079 -0.468981  1.731331 -1.220573       0.797767          1   \n",
       "5642     1.364231  0.196983 -0.347860 -1.220573      -0.916018          1   \n",
       "9643    -1.330797  0.196983 -1.040924 -1.220573       0.797767          1   \n",
       "\n",
       "      IsActiveMember  EstimatedSalary  Geography_Germany  Geography_Spain  \\\n",
       "7837               0         1.202714                  0                1   \n",
       "9505               1        -0.443548                  0                0   \n",
       "6208               1        -0.347161                  0                0   \n",
       "5642               0         0.568776                  0                1   \n",
       "9643               1         0.223765                  0                0   \n",
       "\n",
       "      Gender_Male  \n",
       "7837            1  \n",
       "9505            1  \n",
       "6208            1  \n",
       "5642            0  \n",
       "9643            0  "
      ]
     },
     "execution_count": 47,
     "metadata": {},
     "output_type": "execute_result"
    }
   ],
   "source": [
    "#Масштабируем численные признаки тестовой выборки \n",
    "features_test[numeric] = scaler.transform(features_test[numeric])\n",
    "features_test.head()"
   ]
  },
  {
   "cell_type": "markdown",
   "metadata": {},
   "source": [
    "После масштабирования признаков для трех выборок, мы готовы приступить к исследованию задач с использованием моделей машинного обучения."
   ]
  },
  {
   "cell_type": "code",
   "execution_count": 48,
   "metadata": {},
   "outputs": [
    {
     "data": {
      "text/plain": [
       "((7963, 11), (2037, 11))"
      ]
     },
     "execution_count": 48,
     "metadata": {},
     "output_type": "execute_result"
    }
   ],
   "source": [
    "# Посмотрим количество объектов отрицательного и положительно класса\n",
    "features[target == 0].shape, features[target == 1].shape"
   ]
  },
  {
   "cell_type": "code",
   "execution_count": 49,
   "metadata": {},
   "outputs": [
    {
     "data": {
      "image/png": "[encoded data removed]",
      "text/plain": [
       "<Figure size 432x288 with 1 Axes>"
      ]
     },
     "metadata": {},
     "output_type": "display_data"
    }
   ],
   "source": [
    "# Подсчет количества объектов отрицательного и положительного класса\n",
    "negative_count = features[target == 0].shape[0]\n",
    "positive_count = features[target == 1].shape[0]\n",
    "\n",
    "\n",
    "# Создание круговой диаграммы\n",
    "labels = ['Negative', 'Positive']\n",
    "sizes = [negative_count, positive_count]\n",
    "\n",
    "plt.pie(sizes, labels=labels, autopct='%1.1f%%')\n",
    "plt.title('Distribution of Classes')\n",
    "\n",
    "plt.show()"
   ]
  },
  {
   "cell_type": "markdown",
   "metadata": {},
   "source": [
    "наблюдаем явный дисбаланс классов в 4 раза, обучим модели на несбалансированных данных и посмотрим а результаты"
   ]
  },
  {
   "cell_type": "markdown",
   "metadata": {},
   "source": [
    "##### Вывод"
   ]
  },
  {
   "cell_type": "markdown",
   "metadata": {},
   "source": [
    "На данном этапе производится предварительная обработка и подготовка данных для дальнейшего анализа и построения моделей. Импортировали необходимые библиотеки, провели первичный анализ данных, в столбце Tenure заполнили пропущенные значения. Удалили ненужные столбцы и проебразовали нужные столбцы  \"Geography\" и \"Gender\" с помощью техники OHЕ. Затем разделили признаки на целевой, масштабировали данные."
   ]
  },
  {
   "cell_type": "markdown",
   "metadata": {},
   "source": [
    "## Исследование задачи"
   ]
  },
  {
   "cell_type": "markdown",
   "metadata": {},
   "source": [
    "2.1 Обучение моделей"
   ]
  },
  {
   "cell_type": "markdown",
   "metadata": {},
   "source": [
    "##### DecisionTreeClassifier"
   ]
  },
  {
   "cell_type": "code",
   "execution_count": 50,
   "metadata": {},
   "outputs": [
    {
     "name": "stdout",
     "output_type": "stream",
     "text": [
      "max_depth = 1 : F1 Score = 0.0\n",
      "max_depth = 2 : F1 Score = 0.514792899408284\n",
      "max_depth = 3 : F1 Score = 0.375\n",
      "max_depth = 4 : F1 Score = 0.5168539325842697\n",
      "max_depth = 5 : F1 Score = 0.46045694200351495\n",
      "max_depth = 6 : F1 Score = 0.532051282051282\n",
      "max_depth = 7 : F1 Score = 0.5460218408736349\n",
      "max_depth = 8 : F1 Score = 0.5747460087082729\n",
      "max_depth = 9 : F1 Score = 0.5305514157973175\n",
      "max_depth = 10 : F1 Score = 0.5426136363636364\n",
      "max_depth = 11 : F1 Score = 0.5430107526881721\n",
      "max_depth = 12 : F1 Score = 0.5136897001303781\n",
      "max_depth = 13 : F1 Score = 0.5063938618925832\n",
      "max_depth = 14 : F1 Score = 0.5057766367137355\n",
      "max_depth = 15 : F1 Score = 0.4911392405063291\n",
      "max_depth = 16 : F1 Score = 0.49070631970260226\n",
      "max_depth = 17 : F1 Score = 0.49814126394052044\n",
      "max_depth = 18 : F1 Score = 0.4743276283618582\n",
      "max_depth = 19 : F1 Score = 0.4963503649635037\n",
      "max_depth = 20 : F1 Score = 0.4903846153846154\n",
      "Best F1 Score: 0.5747460087082729\n",
      "Best depth for F1 Score: 8\n"
     ]
    }
   ],
   "source": [
    "best_f1_score = 0\n",
    "best_f1_depth = 0\n",
    "\n",
    "for depth in range(1, 21):\n",
    "    model = DecisionTreeClassifier(random_state=12345, max_depth=depth)\n",
    "    model.fit(features_train, target_train)\n",
    "    predicted_val = model.predict(features_val)\n",
    "    f1 = f1_score(target_val, predicted_val)\n",
    "    print(\"max_depth =\", depth, \": F1 Score =\", f1)\n",
    "    \n",
    "    if f1 > best_f1_score:\n",
    "        best_f1_score = f1\n",
    "        best_f1_depth = depth\n",
    "\n",
    "print(\"Best F1 Score:\", best_f1_score)\n",
    "print(\"Best depth for F1 Score:\", best_f1_depth)"
   ]
  },
  {
   "cell_type": "markdown",
   "metadata": {},
   "source": [
    "##### RandomForestClassifier"
   ]
  },
  {
   "cell_type": "code",
   "execution_count": 53,
   "metadata": {
    "scrolled": false
   },
   "outputs": [
    {
     "name": "stdout",
     "output_type": "stream",
     "text": [
      "max_depth = 1 : F1 Score = 0.0\n",
      "max_depth = 2 : F1 Score = 0.16629213483146066\n",
      "max_depth = 3 : F1 Score = 0.21645021645021648\n",
      "max_depth = 4 : F1 Score = 0.3954372623574145\n",
      "max_depth = 5 : F1 Score = 0.46319569120287246\n",
      "max_depth = 6 : F1 Score = 0.48780487804878053\n",
      "max_depth = 7 : F1 Score = 0.503448275862069\n",
      "max_depth = 8 : F1 Score = 0.5317725752508361\n",
      "max_depth = 9 : F1 Score = 0.5266666666666666\n",
      "max_depth = 10 : F1 Score = 0.5394736842105264\n",
      "max_depth = 11 : F1 Score = 0.546644844517185\n",
      "max_depth = 12 : F1 Score = 0.5614035087719298\n",
      "max_depth = 13 : F1 Score = 0.580441640378549\n",
      "max_depth = 14 : F1 Score = 0.5620094191522763\n",
      "max_depth = 15 : F1 Score = 0.5638629283489096\n",
      "max_depth = 16 : F1 Score = 0.5617283950617283\n",
      "max_depth = 17 : F1 Score = 0.5644171779141105\n",
      "max_depth = 18 : F1 Score = 0.563165905631659\n",
      "max_depth = 19 : F1 Score = 0.548780487804878\n",
      "max_depth = 20 : F1 Score = 0.5674846625766871\n",
      "Best F1 Score: 0.580441640378549\n",
      "Best depth for F1 Score: 13\n"
     ]
    }
   ],
   "source": [
    "best_f1_score = 0\n",
    "best_f1_depth = 0\n",
    "\n",
    "for depth in range(1, 21):\n",
    "    model = RandomForestClassifier(random_state=12345, max_depth=depth)\n",
    "    model.fit(features_train, target_train)\n",
    "    predicted_val = model.predict(features_val)\n",
    "    f1 = f1_score(target_val, predicted_val)\n",
    "    print(\"max_depth =\", depth, \": F1 Score =\", f1)\n",
    "    \n",
    "    if f1 > best_f1_score:\n",
    "        best_f1_score = f1\n",
    "        best_f1_depth = depth\n",
    "\n",
    "print(\"Best F1 Score:\", best_f1_score)\n",
    "print(\"Best depth for F1 Score:\", best_f1_depth)"
   ]
  },
  {
   "cell_type": "markdown",
   "metadata": {},
   "source": [
    "##### LogisticRegression"
   ]
  },
  {
   "cell_type": "code",
   "execution_count": 54,
   "metadata": {
    "scrolled": false
   },
   "outputs": [
    {
     "name": "stdout",
     "output_type": "stream",
     "text": [
      "C = 0.1 : AUC-ROC = 0.5854382888281193 F1 Score = 0.3021032504780115\n",
      "C = 0.2 : AUC-ROC = 0.590639175384938 F1 Score = 0.3163841807909604\n",
      "C = 0.30000000000000004 : AUC-ROC = 0.590639175384938 F1 Score = 0.3163841807909604\n",
      "C = 0.4 : AUC-ROC = 0.5903253021897089 F1 Score = 0.3157894736842105\n",
      "C = 0.5 : AUC-ROC = 0.5915538034182102 F1 Score = 0.3189493433395873\n",
      "C = 0.6 : AUC-ROC = 0.591239930222981 F1 Score = 0.31835205992509363\n",
      "C = 0.7000000000000001 : AUC-ROC = 0.591239930222981 F1 Score = 0.31835205992509363\n",
      "C = 0.8 : AUC-ROC = 0.591239930222981 F1 Score = 0.31835205992509363\n",
      "C = 0.9 : AUC-ROC = 0.591239930222981 F1 Score = 0.31835205992509363\n",
      "C = 1.0 : AUC-ROC = 0.590926057027752 F1 Score = 0.3177570093457944\n",
      "Best F1 Score: 0.3189493433395873\n",
      "Best C for F1 Score: 0.5\n"
     ]
    }
   ],
   "source": [
    "best_f1_score = 0\n",
    "best_f1_C = 0\n",
    "\n",
    "for C in np.linspace(0.1, 1.0, 10):\n",
    "    model = LogisticRegression(random_state=12345, C=C)\n",
    "    model.fit(features_train, target_train)\n",
    "    predicted_val = model.predict(features_val)\n",
    "    auc_roc = roc_auc_score(target_val, predicted_val)\n",
    "    f1 = f1_score(target_val, predicted_val)\n",
    "    print(\"C =\", C, \": AUC-ROC =\", auc_roc, \"F1 Score =\", f1)\n",
    "    \n",
    "    if f1 > best_f1_score:\n",
    "        best_f1_score = f1\n",
    "        best_f1_C = C\n",
    "\n",
    "print(\"Best F1 Score:\", best_f1_score)\n",
    "print(\"Best C for F1 Score:\", best_f1_C)"
   ]
  },
  {
   "cell_type": "markdown",
   "metadata": {},
   "source": [
    "##### Вывод"
   ]
  },
  {
   "cell_type": "markdown",
   "metadata": {},
   "source": [
    "Мы обучили три модели без учета дисбаланса классов, и модель случайного леса показала наилучший результат по метрике F1 Score. Теперь мы можем рассчитать дополнительную метрику AUC-ROC для оценки качества модели"
   ]
  },
  {
   "cell_type": "code",
   "execution_count": 86,
   "metadata": {},
   "outputs": [
    {
     "name": "stdout",
     "output_type": "stream",
     "text": [
      "F1 Score на валидационной выборке: 0.580441640378549\n",
      "AUC-ROC на валидационной выборке: 0.8615263954247004\n"
     ]
    }
   ],
   "source": [
    "model = RandomForestClassifier(random_state=RANDOM_STATE, max_depth=13)\n",
    "model.fit(features_train, target_train)\n",
    "\n",
    "predicted_val = model.predict(features_val)\n",
    "f1 = f1_score(target_val, predicted_val)\n",
    "\n",
    "probabilities_val = model.predict_proba(features_val)\n",
    "probabilities_one_val = probabilities_val[:, 1]\n",
    "auc_roc = roc_auc_score(target_val, probabilities_one_val)\n",
    "\n",
    "print('F1 Score на валидационной выборке:', f1)\n",
    "print('AUC-ROC на валидационной выборке:', auc_roc)"
   ]
  },
  {
   "cell_type": "code",
   "execution_count": 100,
   "metadata": {},
   "outputs": [
    {
     "data": {
      "text/html": [
       "<div>\n",
       "<style scoped>\n",
       "    .dataframe tbody tr th:only-of-type {\n",
       "        vertical-align: middle;\n",
       "    }\n",
       "\n",
       "    .dataframe tbody tr th {\n",
       "        vertical-align: top;\n",
       "    }\n",
       "\n",
       "    .dataframe thead th {\n",
       "        text-align: right;\n",
       "    }\n",
       "</style>\n",
       "<table border=\"1\" class=\"dataframe\">\n",
       "  <thead>\n",
       "    <tr style=\"text-align: right;\">\n",
       "      <th></th>\n",
       "      <th>Модель</th>\n",
       "      <th>Балансировка</th>\n",
       "      <th>Глубина</th>\n",
       "      <th>F1 Score</th>\n",
       "      <th>C</th>\n",
       "    </tr>\n",
       "  </thead>\n",
       "  <tbody>\n",
       "    <tr>\n",
       "      <th>0</th>\n",
       "      <td>Decision Tree</td>\n",
       "      <td>Нет</td>\n",
       "      <td>8.0</td>\n",
       "      <td>0.574746</td>\n",
       "      <td>NaN</td>\n",
       "    </tr>\n",
       "    <tr>\n",
       "      <th>1</th>\n",
       "      <td>Random Forest</td>\n",
       "      <td>Нет</td>\n",
       "      <td>13.0</td>\n",
       "      <td>0.580442</td>\n",
       "      <td>NaN</td>\n",
       "    </tr>\n",
       "    <tr>\n",
       "      <th>2</th>\n",
       "      <td>Logistic Regression</td>\n",
       "      <td>Нет</td>\n",
       "      <td>NaN</td>\n",
       "      <td>0.318949</td>\n",
       "      <td>0.5</td>\n",
       "    </tr>\n",
       "  </tbody>\n",
       "</table>\n",
       "</div>"
      ],
      "text/plain": [
       "                Модель Балансировка  Глубина  F1 Score    C\n",
       "0        Decision Tree          Нет      8.0  0.574746  NaN\n",
       "1        Random Forest          Нет     13.0  0.580442  NaN\n",
       "2  Logistic Regression          Нет      NaN  0.318949  0.5"
      ]
     },
     "execution_count": 100,
     "metadata": {},
     "output_type": "execute_result"
    }
   ],
   "source": [
    "# Создание списка со значениями\n",
    "results_no_balance = [\n",
    "    {'Модель': 'Decision Tree', 'Балансировка': 'Нет', 'Глубина': 8, 'F1 Score': 0.5747460087082729},\n",
    "    {'Модель': 'Random Forest', 'Балансировка': 'Нет', 'Глубина': 13, 'F1 Score': 0.580441640378549},\n",
    "    {'Модель': 'Logistic Regression', 'Балансировка': 'Нет', 'C': 0.5, 'F1 Score': 0.3189493433395873},\n",
    "     ]\n",
    "\n",
    "# Создание DataFrame\n",
    "df_results_no_balance = pd.DataFrame(results_no_balance)\n",
    "\n",
    "# Вывод таблицы\n",
    "df_results_no_balance"
   ]
  },
  {
   "cell_type": "markdown",
   "metadata": {},
   "source": [
    "Довольно хороший результат auc_roc 0.86, теперь же обучим модели после устранения дисбаланса."
   ]
  },
  {
   "cell_type": "markdown",
   "metadata": {},
   "source": [
    "## Борьба с дисбалансом"
   ]
  },
  {
   "cell_type": "markdown",
   "metadata": {},
   "source": [
    "Ранее уже видели, что дизбаланс целевого отношения 4:1. Напишем функцию апсемплинга(с кф 4) и даунсемплинга(с кф 0.25), и проверим модели на новых наборах данных."
   ]
  },
  {
   "cell_type": "code",
   "execution_count": 74,
   "metadata": {},
   "outputs": [],
   "source": [
    "# Увеличиваем число наблюдений\n",
    "def upsample(features, target, repeat):\n",
    "    features_zeros = features[target == 0]\n",
    "    features_ones = features[target == 1]\n",
    "    target_zeros = target[target == 0]\n",
    "    target_ones = target[target == 1]\n",
    "\n",
    "    features_upsampled = pd.concat([features_zeros] + [features_ones] * repeat)\n",
    "    target_upsampled = pd.concat([target_zeros] + [target_ones] * repeat)\n",
    "    \n",
    "    features_upsampled, target_upsampled = shuffle(\n",
    "        features_upsampled, target_upsampled, random_state=12345)\n",
    "    \n",
    "    return features_upsampled, target_upsampled"
   ]
  },
  {
   "cell_type": "code",
   "execution_count": 75,
   "metadata": {},
   "outputs": [],
   "source": [
    "# Уменьшаем число наблюдений\n",
    "def downsample(features, target, fraction):\n",
    "    features_zeros = features[target == 0]\n",
    "    features_ones = features[target == 1]\n",
    "    target_zeros = target[target == 0]\n",
    "    target_ones = target[target == 1]\n",
    "\n",
    "    features_downsampled = pd.concat(\n",
    "        [features_zeros.sample(frac=fraction, random_state=12345)] + [features_ones])\n",
    "    target_downsampled = pd.concat(\n",
    "        [target_zeros.sample(frac=fraction, random_state=12345)] + [target_ones])\n",
    "    \n",
    "    features_downsampled, target_downsampled = shuffle(\n",
    "        features_downsampled, target_downsampled, random_state=12345)\n",
    "    \n",
    "    return features_downsampled, target_downsampled"
   ]
  },
  {
   "cell_type": "code",
   "execution_count": 76,
   "metadata": {},
   "outputs": [],
   "source": [
    "features_upsampled_train, target_upsampled_train = upsample(features_train, target_train, repeat=4)\n",
    "features_downsampled_train, target_downsampled_train = downsample(features_train, target_train, 0.25)"
   ]
  },
  {
   "cell_type": "markdown",
   "metadata": {},
   "source": [
    "###### Проверим модели на апсемплинге:"
   ]
  },
  {
   "cell_type": "markdown",
   "metadata": {},
   "source": [
    "##### DecisionTreeClassifier"
   ]
  },
  {
   "cell_type": "code",
   "execution_count": 77,
   "metadata": {},
   "outputs": [
    {
     "name": "stdout",
     "output_type": "stream",
     "text": [
      "max_depth = 1 : F1 Score = 0.49916527545909845\n",
      "max_depth = 2 : F1 Score = 0.5074135090609556\n",
      "max_depth = 3 : F1 Score = 0.5074135090609556\n",
      "max_depth = 4 : F1 Score = 0.5422594142259414\n",
      "max_depth = 5 : F1 Score = 0.5618556701030928\n",
      "max_depth = 6 : F1 Score = 0.5770609318996416\n",
      "max_depth = 7 : F1 Score = 0.5724703737465816\n",
      "max_depth = 8 : F1 Score = 0.543438077634011\n",
      "max_depth = 9 : F1 Score = 0.5511961722488039\n",
      "max_depth = 10 : F1 Score = 0.5232558139534884\n",
      "max_depth = 11 : F1 Score = 0.5174537987679672\n",
      "max_depth = 12 : F1 Score = 0.5202072538860104\n",
      "max_depth = 13 : F1 Score = 0.5011185682326621\n",
      "max_depth = 14 : F1 Score = 0.47544642857142855\n",
      "max_depth = 15 : F1 Score = 0.4782122905027933\n",
      "max_depth = 16 : F1 Score = 0.4691075514874142\n",
      "max_depth = 17 : F1 Score = 0.4693396226415094\n",
      "max_depth = 18 : F1 Score = 0.4830097087378641\n",
      "max_depth = 19 : F1 Score = 0.5079365079365079\n",
      "max_depth = 20 : F1 Score = 0.4727272727272727\n",
      "Best F1 Score: 0.5770609318996416\n",
      "Best depth for F1 Score: 6\n"
     ]
    }
   ],
   "source": [
    "best_f1_score = 0\n",
    "best_f1_depth = 0\n",
    "\n",
    "for depth in range(1, 21):\n",
    "    model = DecisionTreeClassifier(random_state=12345, max_depth=depth)\n",
    "    model.fit(features_upsampled_train, target_upsampled_train)\n",
    "    predicted_val = model.predict(features_val)\n",
    "    f1 = f1_score(target_val, predicted_val)\n",
    "    print(\"max_depth =\", depth, \": F1 Score =\", f1)\n",
    "    \n",
    "    if f1 > best_f1_score:\n",
    "        best_f1_score = f1\n",
    "        best_f1_depth = depth\n",
    "\n",
    "print(\"Best F1 Score:\", best_f1_score)\n",
    "print(\"Best depth for F1 Score:\", best_f1_depth)"
   ]
  },
  {
   "cell_type": "markdown",
   "metadata": {},
   "source": [
    "##### RandomForestClassifier"
   ]
  },
  {
   "cell_type": "code",
   "execution_count": 78,
   "metadata": {},
   "outputs": [
    {
     "name": "stdout",
     "output_type": "stream",
     "text": [
      "max_depth = 1 : F1 Score = 0.5275862068965518\n",
      "max_depth = 2 : F1 Score = 0.5631244323342416\n",
      "max_depth = 3 : F1 Score = 0.5836363636363636\n",
      "max_depth = 4 : F1 Score = 0.5857819905213271\n",
      "max_depth = 5 : F1 Score = 0.5969289827255279\n",
      "max_depth = 6 : F1 Score = 0.6051080550098232\n",
      "max_depth = 7 : F1 Score = 0.6126482213438734\n",
      "max_depth = 8 : F1 Score = 0.6286286286286286\n",
      "max_depth = 9 : F1 Score = 0.6131687242798354\n",
      "max_depth = 10 : F1 Score = 0.6339869281045752\n",
      "max_depth = 11 : F1 Score = 0.6281179138321995\n",
      "max_depth = 12 : F1 Score = 0.6144721233689204\n",
      "max_depth = 13 : F1 Score = 0.6166868198307133\n",
      "max_depth = 14 : F1 Score = 0.598503740648379\n",
      "max_depth = 15 : F1 Score = 0.6069142125480153\n",
      "max_depth = 16 : F1 Score = 0.6141522029372496\n",
      "max_depth = 17 : F1 Score = 0.6040268456375839\n",
      "max_depth = 18 : F1 Score = 0.6040268456375839\n",
      "max_depth = 19 : F1 Score = 0.6\n",
      "max_depth = 20 : F1 Score = 0.6029609690444145\n",
      "Best F1 Score: 0.6339869281045752\n",
      "Best depth for F1 Score: 10\n"
     ]
    }
   ],
   "source": [
    "best_f1_score = 0\n",
    "best_f1_depth = 0\n",
    "\n",
    "for depth in range(1, 21):\n",
    "    model = RandomForestClassifier(random_state=12345, max_depth=depth)\n",
    "    model.fit(features_upsampled_train, target_upsampled_train)\n",
    "    predicted_val = model.predict(features_val)\n",
    "    f1 = f1_score(target_val, predicted_val)\n",
    "    print(\"max_depth =\", depth, \": F1 Score =\", f1)\n",
    "    \n",
    "    if f1 > best_f1_score:\n",
    "        best_f1_score = f1\n",
    "        best_f1_depth = depth\n",
    "\n",
    "print(\"Best F1 Score:\", best_f1_score)\n",
    "print(\"Best depth for F1 Score:\", best_f1_depth)"
   ]
  },
  {
   "cell_type": "markdown",
   "metadata": {},
   "source": [
    "##### LogisticRegression"
   ]
  },
  {
   "cell_type": "code",
   "execution_count": 81,
   "metadata": {},
   "outputs": [
    {
     "name": "stdout",
     "output_type": "stream",
     "text": [
      "C = 0.1 F1 Score = 0.5085616438356165\n",
      "C = 0.2 F1 Score = 0.5085616438356165\n",
      "C = 0.30000000000000004 F1 Score = 0.5081266039349872\n",
      "C = 0.4 F1 Score = 0.5081266039349872\n",
      "C = 0.5 F1 Score = 0.5081266039349872\n",
      "C = 0.6 F1 Score = 0.5076923076923077\n",
      "C = 0.7000000000000001 F1 Score = 0.5081266039349872\n",
      "C = 0.8 F1 Score = 0.5081266039349872\n",
      "C = 0.9 F1 Score = 0.5081266039349872\n",
      "C = 1.0 F1 Score = 0.5081266039349872\n",
      "Best F1 Score: 0.5085616438356165\n",
      "Best C for F1 Score: 0.1\n"
     ]
    }
   ],
   "source": [
    "best_f1_score = 0\n",
    "best_f1_C = 0\n",
    "\n",
    "for C in np.linspace(0.1, 1.0, 10):\n",
    "    model = LogisticRegression(random_state=12345, C=C)\n",
    "    model.fit(features_upsampled_train, target_upsampled_train)\n",
    "    predicted_val = model.predict(features_val)\n",
    "    f1 = f1_score(target_val, predicted_val)\n",
    "    print(\"C =\", C, \"F1 Score =\", f1)\n",
    "\n",
    "    if f1 > best_f1_score:\n",
    "        best_f1_score = f1\n",
    "        best_f1_C = C\n",
    "\n",
    "print(\"Best F1 Score:\", best_f1_score)\n",
    "print(\"Best C for F1 Score:\", best_f1_C)"
   ]
  },
  {
   "cell_type": "code",
   "execution_count": 83,
   "metadata": {},
   "outputs": [
    {
     "data": {
      "text/html": [
       "<div>\n",
       "<style scoped>\n",
       "    .dataframe tbody tr th:only-of-type {\n",
       "        vertical-align: middle;\n",
       "    }\n",
       "\n",
       "    .dataframe tbody tr th {\n",
       "        vertical-align: top;\n",
       "    }\n",
       "\n",
       "    .dataframe thead th {\n",
       "        text-align: right;\n",
       "    }\n",
       "</style>\n",
       "<table border=\"1\" class=\"dataframe\">\n",
       "  <thead>\n",
       "    <tr style=\"text-align: right;\">\n",
       "      <th></th>\n",
       "      <th>Модель</th>\n",
       "      <th>Балансировка</th>\n",
       "      <th>Глубина</th>\n",
       "      <th>F1 Score</th>\n",
       "      <th>C</th>\n",
       "    </tr>\n",
       "  </thead>\n",
       "  <tbody>\n",
       "    <tr>\n",
       "      <th>0</th>\n",
       "      <td>Decision Tree</td>\n",
       "      <td>upsampled</td>\n",
       "      <td>6.0</td>\n",
       "      <td>0.577061</td>\n",
       "      <td>NaN</td>\n",
       "    </tr>\n",
       "    <tr>\n",
       "      <th>1</th>\n",
       "      <td>Random Forest</td>\n",
       "      <td>upsampled</td>\n",
       "      <td>10.0</td>\n",
       "      <td>0.633987</td>\n",
       "      <td>NaN</td>\n",
       "    </tr>\n",
       "    <tr>\n",
       "      <th>2</th>\n",
       "      <td>Logistic Regression</td>\n",
       "      <td>upsampled</td>\n",
       "      <td>NaN</td>\n",
       "      <td>0.508562</td>\n",
       "      <td>0.1</td>\n",
       "    </tr>\n",
       "  </tbody>\n",
       "</table>\n",
       "</div>"
      ],
      "text/plain": [
       "                Модель Балансировка  Глубина  F1 Score    C\n",
       "0        Decision Tree    upsampled      6.0  0.577061  NaN\n",
       "1        Random Forest    upsampled     10.0  0.633987  NaN\n",
       "2  Logistic Regression    upsampled      NaN  0.508562  0.1"
      ]
     },
     "metadata": {},
     "output_type": "display_data"
    },
    {
     "data": {
      "text/html": [
       "<div>\n",
       "<style scoped>\n",
       "    .dataframe tbody tr th:only-of-type {\n",
       "        vertical-align: middle;\n",
       "    }\n",
       "\n",
       "    .dataframe tbody tr th {\n",
       "        vertical-align: top;\n",
       "    }\n",
       "\n",
       "    .dataframe thead th {\n",
       "        text-align: right;\n",
       "    }\n",
       "</style>\n",
       "<table border=\"1\" class=\"dataframe\">\n",
       "  <thead>\n",
       "    <tr style=\"text-align: right;\">\n",
       "      <th></th>\n",
       "      <th>Модель</th>\n",
       "      <th>Балансировка</th>\n",
       "      <th>Глубина</th>\n",
       "      <th>F1 Score</th>\n",
       "      <th>C</th>\n",
       "    </tr>\n",
       "  </thead>\n",
       "  <tbody>\n",
       "    <tr>\n",
       "      <th>0</th>\n",
       "      <td>Decision Tree</td>\n",
       "      <td>Нет</td>\n",
       "      <td>8.0</td>\n",
       "      <td>0.574746</td>\n",
       "      <td>NaN</td>\n",
       "    </tr>\n",
       "    <tr>\n",
       "      <th>1</th>\n",
       "      <td>Random Forest</td>\n",
       "      <td>Нет</td>\n",
       "      <td>13.0</td>\n",
       "      <td>0.580442</td>\n",
       "      <td>NaN</td>\n",
       "    </tr>\n",
       "    <tr>\n",
       "      <th>2</th>\n",
       "      <td>Logistic Regression</td>\n",
       "      <td>Нет</td>\n",
       "      <td>NaN</td>\n",
       "      <td>0.318949</td>\n",
       "      <td>0.5</td>\n",
       "    </tr>\n",
       "  </tbody>\n",
       "</table>\n",
       "</div>"
      ],
      "text/plain": [
       "                Модель Балансировка  Глубина  F1 Score    C\n",
       "0        Decision Tree          Нет      8.0  0.574746  NaN\n",
       "1        Random Forest          Нет     13.0  0.580442  NaN\n",
       "2  Logistic Regression          Нет      NaN  0.318949  0.5"
      ]
     },
     "metadata": {},
     "output_type": "display_data"
    }
   ],
   "source": [
    "# Создание списка со значениями\n",
    "results_upsampled = [\n",
    "    {'Модель': 'Decision Tree', 'Балансировка': 'upsampled', 'Глубина': 6, 'F1 Score': 0.5770609318996416},\n",
    "    {'Модель': 'Random Forest', 'Балансировка': 'upsampled', 'Глубина': 10, 'F1 Score': 0.6339869281045752},\n",
    "    {'Модель': 'Logistic Regression', 'Балансировка': 'upsampled', 'C': 0.1, 'F1 Score': 0.5085616438356165}\n",
    "]\n",
    "\n",
    "# Создание DataFrame\n",
    "df_results_upsampled = pd.DataFrame(results_upsampled)\n",
    "\n",
    "# Вывод таблицы\n",
    "\n",
    "display(df_results_upsampled, df_results_no_balance)"
   ]
  },
  {
   "cell_type": "markdown",
   "metadata": {},
   "source": [
    "Как видим на апсемплинге результаты ф1 уже лучше, у модели Случайный лес - ф1 0.63, и у логист. регрессии 0.50. А решающее дерево без изменений. Теперь же  рассчитаем дополнительную метрику AUC-ROC для оценки качества модели"
   ]
  },
  {
   "cell_type": "code",
   "execution_count": 89,
   "metadata": {},
   "outputs": [
    {
     "name": "stdout",
     "output_type": "stream",
     "text": [
      "F1 Score на валидационной выборке: 0.6339869281045752\n",
      "AUC-ROC на валидационной выборке: 0.8707274300494638\n"
     ]
    }
   ],
   "source": [
    "model = RandomForestClassifier(random_state=RANDOM_STATE, max_depth=10)\n",
    "model.fit(features_upsampled_train, target_upsampled_train)\n",
    "\n",
    "predicted_val = model.predict(features_val)\n",
    "f1 = f1_score(target_val, predicted_val)\n",
    "\n",
    "probabilities_val = model.predict_proba(features_val)\n",
    "probabilities_one_val = probabilities_val[:, 1]\n",
    "auc_roc = roc_auc_score(target_val, probabilities_one_val)\n",
    "\n",
    "print('F1 Score на валидационной выборке:', f1)\n",
    "print('AUC-ROC на валидационной выборке:', auc_roc)"
   ]
  },
  {
   "cell_type": "markdown",
   "metadata": {},
   "source": [
    "результат чуть лучше на апсемплинге auc_roc 0.87, теперь же посмотрим модели на даунсемплинге:"
   ]
  },
  {
   "cell_type": "markdown",
   "metadata": {},
   "source": [
    "###### Проверим модели на даунсемплинге:"
   ]
  },
  {
   "cell_type": "markdown",
   "metadata": {},
   "source": [
    "##### DecisionTreeClassifier"
   ]
  },
  {
   "cell_type": "code",
   "execution_count": 103,
   "metadata": {},
   "outputs": [
    {
     "name": "stdout",
     "output_type": "stream",
     "text": [
      "max_depth = 1 : F1 Score = 0.4804381846635367\n",
      "max_depth = 2 : F1 Score = 0.4860681114551083\n",
      "max_depth = 3 : F1 Score = 0.5159817351598174\n",
      "max_depth = 4 : F1 Score = 0.5228548516439455\n",
      "max_depth = 5 : F1 Score = 0.5551894563426688\n",
      "max_depth = 6 : F1 Score = 0.5921450151057401\n",
      "max_depth = 7 : F1 Score = 0.5510026155187445\n",
      "max_depth = 8 : F1 Score = 0.5452881976212259\n",
      "max_depth = 9 : F1 Score = 0.5068027210884353\n",
      "max_depth = 10 : F1 Score = 0.5046413502109705\n",
      "max_depth = 11 : F1 Score = 0.49786142001710865\n",
      "max_depth = 12 : F1 Score = 0.49957374254049447\n",
      "max_depth = 13 : F1 Score = 0.49484536082474223\n",
      "max_depth = 14 : F1 Score = 0.4910485933503836\n",
      "max_depth = 15 : F1 Score = 0.4957698815566835\n",
      "max_depth = 16 : F1 Score = 0.48120300751879697\n",
      "max_depth = 17 : F1 Score = 0.4820083682008368\n",
      "max_depth = 18 : F1 Score = 0.4818871103622578\n",
      "max_depth = 19 : F1 Score = 0.48612279226240535\n",
      "max_depth = 20 : F1 Score = 0.4818871103622578\n",
      "Best F1 Score: 0.5921450151057401\n",
      "Best depth for F1 Score: 6\n"
     ]
    }
   ],
   "source": [
    "best_f1_score = 0\n",
    "best_f1_depth = 0\n",
    "\n",
    "for depth in range(1, 21):\n",
    "    model = DecisionTreeClassifier(random_state=12345, max_depth=depth)\n",
    "    model.fit(features_downsampled_train, target_downsampled_train)\n",
    "    predicted_val = model.predict(features_val)\n",
    "    f1 = f1_score(target_val, predicted_val)\n",
    "    print(\"max_depth =\", depth, \": F1 Score =\", f1)\n",
    "    \n",
    "    if f1 > best_f1_score:\n",
    "        best_f1_score = f1\n",
    "        best_f1_depth = depth\n",
    "\n",
    "print(\"Best F1 Score:\", best_f1_score)\n",
    "print(\"Best depth for F1 Score:\", best_f1_depth)"
   ]
  },
  {
   "cell_type": "markdown",
   "metadata": {},
   "source": [
    "##### RandomForestClassifier"
   ]
  },
  {
   "cell_type": "code",
   "execution_count": 94,
   "metadata": {},
   "outputs": [
    {
     "name": "stdout",
     "output_type": "stream",
     "text": [
      "max_depth = 1 : F1 Score = 0.5417057169634489\n",
      "max_depth = 2 : F1 Score = 0.5806451612903226\n",
      "max_depth = 3 : F1 Score = 0.5884615384615385\n",
      "max_depth = 4 : F1 Score = 0.6025267249757046\n",
      "max_depth = 5 : F1 Score = 0.5990147783251232\n",
      "max_depth = 6 : F1 Score = 0.5998052580331061\n",
      "max_depth = 7 : F1 Score = 0.6039215686274509\n",
      "max_depth = 8 : F1 Score = 0.6104651162790697\n",
      "max_depth = 9 : F1 Score = 0.614481409001957\n",
      "max_depth = 10 : F1 Score = 0.5994236311239194\n",
      "max_depth = 11 : F1 Score = 0.6061185468451242\n",
      "max_depth = 12 : F1 Score = 0.6159769008662176\n",
      "max_depth = 13 : F1 Score = 0.6009478672985783\n",
      "max_depth = 14 : F1 Score = 0.5966228893058162\n",
      "max_depth = 15 : F1 Score = 0.5981132075471698\n",
      "max_depth = 16 : F1 Score = 0.5896946564885496\n",
      "max_depth = 17 : F1 Score = 0.597918637653737\n",
      "max_depth = 18 : F1 Score = 0.5950095969289827\n",
      "max_depth = 19 : F1 Score = 0.5980952380952381\n",
      "max_depth = 20 : F1 Score = 0.5881226053639846\n",
      "Best F1 Score: 0.6159769008662176\n",
      "Best depth for F1 Score: 12\n"
     ]
    }
   ],
   "source": [
    "best_f1_score = 0\n",
    "best_f1_depth = 0\n",
    "\n",
    "for depth in range(1, 21):\n",
    "    model = RandomForestClassifier(random_state=12345, max_depth=depth)\n",
    "    model.fit(features_downsampled_train, target_downsampled_train)\n",
    "    predicted_val = model.predict(features_val)\n",
    "    f1 = f1_score(target_val, predicted_val)\n",
    "    print(\"max_depth =\", depth, \": F1 Score =\", f1)\n",
    "    \n",
    "    if f1 > best_f1_score:\n",
    "        best_f1_score = f1\n",
    "        best_f1_depth = depth\n",
    "\n",
    "print(\"Best F1 Score:\", best_f1_score)\n",
    "print(\"Best depth for F1 Score:\", best_f1_depth)"
   ]
  },
  {
   "cell_type": "markdown",
   "metadata": {},
   "source": [
    "##### LogisticRegression"
   ]
  },
  {
   "cell_type": "code",
   "execution_count": 95,
   "metadata": {},
   "outputs": [
    {
     "name": "stdout",
     "output_type": "stream",
     "text": [
      "C = 0.1 F1 Score = 0.5086206896551725\n",
      "C = 0.2 F1 Score = 0.5055889939810834\n",
      "C = 0.30000000000000004 F1 Score = 0.5051369863013698\n",
      "C = 0.4 F1 Score = 0.504704875962361\n",
      "C = 0.5 F1 Score = 0.504704875962361\n",
      "C = 0.6 F1 Score = 0.5042735042735043\n",
      "C = 0.7000000000000001 F1 Score = 0.5038428693424424\n",
      "C = 0.8 F1 Score = 0.5034129692832764\n",
      "C = 0.9 F1 Score = 0.5034129692832764\n",
      "C = 1.0 F1 Score = 0.5034129692832764\n",
      "Best F1 Score: 0.5086206896551725\n",
      "Best C for F1 Score: 0.1\n"
     ]
    }
   ],
   "source": [
    "best_f1_score = 0\n",
    "best_f1_C = 0\n",
    "\n",
    "for C in np.linspace(0.1, 1.0, 10):\n",
    "    model = LogisticRegression(random_state=12345, C=C)\n",
    "    model.fit(features_downsampled_train, target_downsampled_train)\n",
    "    predicted_val = model.predict(features_val)\n",
    "    f1 = f1_score(target_val, predicted_val)\n",
    "    print(\"C =\", C, \"F1 Score =\", f1)\n",
    "\n",
    "    if f1 > best_f1_score:\n",
    "        best_f1_score = f1\n",
    "        best_f1_C = C\n",
    "        \n",
    "print(\"Best F1 Score:\", best_f1_score)\n",
    "print(\"Best C for F1 Score:\", best_f1_C)\n"
   ]
  },
  {
   "cell_type": "code",
   "execution_count": 104,
   "metadata": {},
   "outputs": [
    {
     "data": {
      "text/html": [
       "<div>\n",
       "<style scoped>\n",
       "    .dataframe tbody tr th:only-of-type {\n",
       "        vertical-align: middle;\n",
       "    }\n",
       "\n",
       "    .dataframe tbody tr th {\n",
       "        vertical-align: top;\n",
       "    }\n",
       "\n",
       "    .dataframe thead th {\n",
       "        text-align: right;\n",
       "    }\n",
       "</style>\n",
       "<table border=\"1\" class=\"dataframe\">\n",
       "  <thead>\n",
       "    <tr style=\"text-align: right;\">\n",
       "      <th></th>\n",
       "      <th>Модель</th>\n",
       "      <th>Балансировка</th>\n",
       "      <th>Глубина</th>\n",
       "      <th>F1 Score</th>\n",
       "      <th>C</th>\n",
       "    </tr>\n",
       "  </thead>\n",
       "  <tbody>\n",
       "    <tr>\n",
       "      <th>0</th>\n",
       "      <td>Decision Tree</td>\n",
       "      <td>downsampled</td>\n",
       "      <td>6.0</td>\n",
       "      <td>0.592145</td>\n",
       "      <td>NaN</td>\n",
       "    </tr>\n",
       "    <tr>\n",
       "      <th>1</th>\n",
       "      <td>Random Forest</td>\n",
       "      <td>downsampled</td>\n",
       "      <td>12.0</td>\n",
       "      <td>0.615977</td>\n",
       "      <td>NaN</td>\n",
       "    </tr>\n",
       "    <tr>\n",
       "      <th>2</th>\n",
       "      <td>Logistic Regression</td>\n",
       "      <td>downsampled</td>\n",
       "      <td>NaN</td>\n",
       "      <td>0.508621</td>\n",
       "      <td>0.1</td>\n",
       "    </tr>\n",
       "  </tbody>\n",
       "</table>\n",
       "</div>"
      ],
      "text/plain": [
       "                Модель Балансировка  Глубина  F1 Score    C\n",
       "0        Decision Tree  downsampled      6.0  0.592145  NaN\n",
       "1        Random Forest  downsampled     12.0  0.615977  NaN\n",
       "2  Logistic Regression  downsampled      NaN  0.508621  0.1"
      ]
     },
     "metadata": {},
     "output_type": "display_data"
    },
    {
     "data": {
      "text/html": [
       "<div>\n",
       "<style scoped>\n",
       "    .dataframe tbody tr th:only-of-type {\n",
       "        vertical-align: middle;\n",
       "    }\n",
       "\n",
       "    .dataframe tbody tr th {\n",
       "        vertical-align: top;\n",
       "    }\n",
       "\n",
       "    .dataframe thead th {\n",
       "        text-align: right;\n",
       "    }\n",
       "</style>\n",
       "<table border=\"1\" class=\"dataframe\">\n",
       "  <thead>\n",
       "    <tr style=\"text-align: right;\">\n",
       "      <th></th>\n",
       "      <th>Модель</th>\n",
       "      <th>Балансировка</th>\n",
       "      <th>Глубина</th>\n",
       "      <th>F1 Score</th>\n",
       "      <th>C</th>\n",
       "    </tr>\n",
       "  </thead>\n",
       "  <tbody>\n",
       "    <tr>\n",
       "      <th>0</th>\n",
       "      <td>Decision Tree</td>\n",
       "      <td>upsampled</td>\n",
       "      <td>6.0</td>\n",
       "      <td>0.577061</td>\n",
       "      <td>NaN</td>\n",
       "    </tr>\n",
       "    <tr>\n",
       "      <th>1</th>\n",
       "      <td>Random Forest</td>\n",
       "      <td>upsampled</td>\n",
       "      <td>10.0</td>\n",
       "      <td>0.633987</td>\n",
       "      <td>NaN</td>\n",
       "    </tr>\n",
       "    <tr>\n",
       "      <th>2</th>\n",
       "      <td>Logistic Regression</td>\n",
       "      <td>upsampled</td>\n",
       "      <td>NaN</td>\n",
       "      <td>0.508562</td>\n",
       "      <td>0.1</td>\n",
       "    </tr>\n",
       "  </tbody>\n",
       "</table>\n",
       "</div>"
      ],
      "text/plain": [
       "                Модель Балансировка  Глубина  F1 Score    C\n",
       "0        Decision Tree    upsampled      6.0  0.577061  NaN\n",
       "1        Random Forest    upsampled     10.0  0.633987  NaN\n",
       "2  Logistic Regression    upsampled      NaN  0.508562  0.1"
      ]
     },
     "metadata": {},
     "output_type": "display_data"
    },
    {
     "data": {
      "text/html": [
       "<div>\n",
       "<style scoped>\n",
       "    .dataframe tbody tr th:only-of-type {\n",
       "        vertical-align: middle;\n",
       "    }\n",
       "\n",
       "    .dataframe tbody tr th {\n",
       "        vertical-align: top;\n",
       "    }\n",
       "\n",
       "    .dataframe thead th {\n",
       "        text-align: right;\n",
       "    }\n",
       "</style>\n",
       "<table border=\"1\" class=\"dataframe\">\n",
       "  <thead>\n",
       "    <tr style=\"text-align: right;\">\n",
       "      <th></th>\n",
       "      <th>Модель</th>\n",
       "      <th>Балансировка</th>\n",
       "      <th>Глубина</th>\n",
       "      <th>F1 Score</th>\n",
       "      <th>C</th>\n",
       "    </tr>\n",
       "  </thead>\n",
       "  <tbody>\n",
       "    <tr>\n",
       "      <th>0</th>\n",
       "      <td>Decision Tree</td>\n",
       "      <td>Нет</td>\n",
       "      <td>8.0</td>\n",
       "      <td>0.574746</td>\n",
       "      <td>NaN</td>\n",
       "    </tr>\n",
       "    <tr>\n",
       "      <th>1</th>\n",
       "      <td>Random Forest</td>\n",
       "      <td>Нет</td>\n",
       "      <td>13.0</td>\n",
       "      <td>0.580442</td>\n",
       "      <td>NaN</td>\n",
       "    </tr>\n",
       "    <tr>\n",
       "      <th>2</th>\n",
       "      <td>Logistic Regression</td>\n",
       "      <td>Нет</td>\n",
       "      <td>NaN</td>\n",
       "      <td>0.318949</td>\n",
       "      <td>0.5</td>\n",
       "    </tr>\n",
       "  </tbody>\n",
       "</table>\n",
       "</div>"
      ],
      "text/plain": [
       "                Модель Балансировка  Глубина  F1 Score    C\n",
       "0        Decision Tree          Нет      8.0  0.574746  NaN\n",
       "1        Random Forest          Нет     13.0  0.580442  NaN\n",
       "2  Logistic Regression          Нет      NaN  0.318949  0.5"
      ]
     },
     "metadata": {},
     "output_type": "display_data"
    }
   ],
   "source": [
    "# Создание списка со значениями\n",
    "results_downsampled = [\n",
    "    {'Модель': 'Decision Tree', 'Балансировка': 'downsampled', 'Глубина': 6, 'F1 Score': 0.5921450151057401},\n",
    "    {'Модель': 'Random Forest', 'Балансировка': 'downsampled', 'Глубина': 12, 'F1 Score': 0.6159769008662176},\n",
    "    {'Модель': 'Logistic Regression', 'Балансировка': 'downsampled', 'C': 0.1, 'F1 Score': 0.5086206896551725}\n",
    "]\n",
    "\n",
    "# Создание DataFrame\n",
    "df_results_downsampled = pd.DataFrame(results_downsampled)\n",
    "\n",
    "# Вывод таблицы\n",
    "display(df_results_downsampled, df_results_upsampled, df_results_no_balance)"
   ]
  },
  {
   "cell_type": "code",
   "execution_count": 98,
   "metadata": {},
   "outputs": [
    {
     "name": "stdout",
     "output_type": "stream",
     "text": [
      "F1 Score на валидационной выборке: 0.6159769008662176\n",
      "AUC-ROC на валидационной выборке: 0.8664781885120869\n"
     ]
    }
   ],
   "source": [
    "model = RandomForestClassifier(random_state=RANDOM_STATE, max_depth=12)\n",
    "model.fit(features_downsampled_train, target_downsampled_train)\n",
    "\n",
    "predicted_val = model.predict(features_val)\n",
    "f1 = f1_score(target_val, predicted_val)\n",
    "\n",
    "probabilities_val = model.predict_proba(features_val)\n",
    "probabilities_one_val = probabilities_val[:, 1]\n",
    "auc_roc = roc_auc_score(target_val, probabilities_one_val)\n",
    "\n",
    "print('F1 Score на валидационной выборке:', f1)\n",
    "print('AUC-ROC на валидационной выборке:', auc_roc)"
   ]
  },
  {
   "cell_type": "markdown",
   "metadata": {},
   "source": [
    "на даунсемплинге результат AUC-ROC такой же как и на несбалансированных данных"
   ]
  },
  {
   "cell_type": "markdown",
   "metadata": {},
   "source": [
    "Как видим лучше всего себя показал апсемлинг, лучшая модель случайный лес:\n",
    "- ф1 0.633987\t\n",
    "- глубина 10"
   ]
  },
  {
   "cell_type": "markdown",
   "metadata": {},
   "source": [
    "Будем использовать эту модель и гиперпараметры для финальной модели."
   ]
  },
  {
   "cell_type": "markdown",
   "metadata": {},
   "source": [
    "## Тестирование модели"
   ]
  },
  {
   "cell_type": "code",
   "execution_count": 101,
   "metadata": {},
   "outputs": [
    {
     "name": "stdout",
     "output_type": "stream",
     "text": [
      "f1 на лучшей модели: 0.6259541984732825\n"
     ]
    }
   ],
   "source": [
    "model = RandomForestClassifier(random_state=RANDOM_STATE, max_depth=10) \n",
    "model.fit(features_upsampled_train, target_upsampled_train)\n",
    "predicted = model.predict(features_test)\n",
    "result = f1_score(target_test, predicted)\n",
    "print('f1 на лучшей модели:', result)"
   ]
  },
  {
   "cell_type": "markdown",
   "metadata": {},
   "source": [
    "как видим, получили F1-меру равную 0.62 Это указывает на хорошую сбалансированность модели в предсказании положительного и отрицательного классов."
   ]
  },
  {
   "cell_type": "code",
   "execution_count": 102,
   "metadata": {},
   "outputs": [
    {
     "data": {
      "text/plain": [
       "0.8664442562747647"
      ]
     },
     "execution_count": 102,
     "metadata": {},
     "output_type": "execute_result"
    }
   ],
   "source": [
    "probabilities_test = model.predict_proba(features_test)\n",
    "probabilities_one_test = probabilities_test[:, 1]\n",
    "auc_roc = roc_auc_score(target_test, probabilities_one_test)\n",
    "auc_roc"
   ]
  },
  {
   "cell_type": "code",
   "execution_count": 96,
   "metadata": {},
   "outputs": [
    {
     "data": {
      "image/png": "[encoded data removed]",
      "text/plain": [
       "<Figure size 432x288 with 1 Axes>"
      ]
     },
     "metadata": {
      "needs_background": "light"
     },
     "output_type": "display_data"
    }
   ],
   "source": [
    "fpr, tpr, thresholds = roc_curve(target_test, probabilities_one_test) \n",
    "\n",
    "plt.plot([0, 1], [0, 1], linestyle='--')\n",
    "plt.plot(fpr, tpr)\n",
    "plt.xlabel('False Positive Rate')\n",
    "plt.ylabel('True Positive Rate')\n",
    "plt.ylim([0.0, 1.0])\n",
    "plt.xlim([0.0, 1.0])\n",
    "plt.title('ROC-кривая')\n",
    "\n",
    "\n",
    "plt.show()"
   ]
  },
  {
   "cell_type": "markdown",
   "metadata": {},
   "source": [
    "Мы получили значение площади под ROC-кривой (AUC-ROC) равное 0.86 Это указывает на хорошую способность модели отличать между положительными и отрицательными классами и предсказывать вероятности принадлежности к положительному классу."
   ]
  },
  {
   "cell_type": "markdown",
   "metadata": {},
   "source": [
    "##### Итоговый Вывод"
   ]
  },
  {
   "cell_type": "markdown",
   "metadata": {},
   "source": [
    "В результате исследования данных клиентов банка, было обнаружено, что параметр \"Tenure\" содержит пропущенные значения, которые не удалось объяснить зависимостью от других атрибутов. Поэтому эти пропуски мы заполнили случайными значениями.\n",
    "\n",
    "Также был выявлен дисбаланс целевых параметров, где количество ушедших клиентов было значительно меньше, чем количество действующих клиентов. Для решения этой проблемы были применены два подхода - апсемплинг и даунсемплинг. При этом апсемплинг показал лучшие результаты.\n",
    "\n",
    "Для обучения моделей классификации (случайный лес деревьев, дерево решений и логистическая регрессия) были подобраны и настроены гиперпараметры. Из них случайный лес деревьев показал наилучшую производительность.\n",
    "\n",
    "На тестовых данных была проверена обученная модель, и она продемонстрировала хорошие результаты с точки зрения f1-метрики (0.62) и AUC-ROC (0.86). Это указывает на сбалансированность модели в терминах точности и полноты.\n",
    "\n",
    "В целом, проведенный анализ данных и обучение моделей позволяют сделать вывод о том, что модель является достаточно надежной и способной предсказывать отток клиентов банка."
   ]
  },
  {
   "cell_type": "code",
   "execution_count": null,
   "metadata": {},
   "outputs": [],
   "source": []
  }
 ],
 "metadata": {
  "kernelspec": {
   "display_name": "Python 3 (ipykernel)",
   "language": "python",
   "name": "python3"
  },
  "language_info": {
   "codemirror_mode": {
    "name": "ipython",
    "version": 3
   },
   "file_extension": ".py",
   "mimetype": "text/x-python",
   "name": "python",
   "nbconvert_exporter": "python",
   "pygments_lexer": "ipython3",
   "version": "3.11.3"
  },
  "toc": {
   "base_numbering": 1,
   "nav_menu": {},
   "number_sections": true,
   "sideBar": true,
   "skip_h1_title": true,
   "title_cell": "Table of Contents",
   "title_sidebar": "Contents",
   "toc_cell": false,
   "toc_position": {},
   "toc_section_display": true,
   "toc_window_display": false
  }
 },
 "nbformat": 4,
 "nbformat_minor": 4
}
