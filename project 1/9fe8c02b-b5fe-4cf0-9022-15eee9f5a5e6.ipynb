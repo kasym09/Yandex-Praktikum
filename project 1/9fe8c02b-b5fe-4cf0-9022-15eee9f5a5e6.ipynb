{
 "cells": [
  {
   "cell_type": "markdown",
   "metadata": {},
   "source": [
    "# Определение возраста покупателей"
   ]
  },
  {
   "cell_type": "markdown",
   "metadata": {},
   "source": [
    "## Исследовательский анализ данных"
   ]
  },
  {
   "cell_type": "code",
   "execution_count": null,
   "metadata": {},
   "outputs": [],
   "source": [
    "import numpy as np\n",
    "import pandas as pd\n",
    "import matplotlib.pyplot as plt\n",
    "\n",
    "from tensorflow.keras.preprocessing.image import ImageDataGenerator\n",
    "from tensorflow.keras.models import Sequential\n",
    "from tensorflow.keras.optimizers import Adam\n",
    "from tensorflow.keras.layers import Conv2D, AvgPool2D, Flatten, Dense\n",
    "from tensorflow.keras.layers import GlobalAveragePooling2D, Dense\n",
    "from tensorflow.keras.applications.resnet import ResNet50\n",
    "\n",
    "SEED = 12345"
   ]
  },
  {
   "cell_type": "code",
   "execution_count": null,
   "metadata": {},
   "outputs": [],
   "source": [
    "labels = pd.read_csv('/datasets/faces/labels.csv')\n",
    "train_datagen = ImageDataGenerator(rescale=1./255)\n",
    "train_gen_flow = train_datagen.flow_from_dataframe(\n",
    "        dataframe=labels,\n",
    "        directory='/datasets/faces/final_files/',\n",
    "        x_col='file_name',\n",
    "        y_col='real_age',\n",
    "        target_size=(224, 224),\n",
    "        batch_size=32,\n",
    "        class_mode='raw',\n",
    "        seed=SEED) "
   ]
  },
  {
   "cell_type": "code",
   "execution_count": null,
   "metadata": {},
   "outputs": [],
   "source": [
    "CSV_PATH = '/datasets/faces/labels.csv'\n",
    "IMG_PATH = '/datasets/faces/final_files/'"
   ]
  },
  {
   "cell_type": "code",
   "execution_count": null,
   "metadata": {},
   "outputs": [],
   "source": [
    "features, target = next(train_gen_flow)"
   ]
  },
  {
   "cell_type": "code",
   "execution_count": null,
   "metadata": {},
   "outputs": [],
   "source": [
    "df = pd.read_csv(CSV_PATH)"
   ]
  },
  {
   "cell_type": "code",
   "execution_count": null,
   "metadata": {},
   "outputs": [],
   "source": [
    "df.sample(10)"
   ]
  },
  {
   "cell_type": "code",
   "execution_count": null,
   "metadata": {},
   "outputs": [],
   "source": [
    "df.info()"
   ]
  },
  {
   "cell_type": "code",
   "execution_count": null,
   "metadata": {},
   "outputs": [],
   "source": [
    "df.describe()"
   ]
  },
  {
   "cell_type": "code",
   "execution_count": null,
   "metadata": {},
   "outputs": [],
   "source": [
    "len(df[df['file_name'].duplicated()])"
   ]
  },
  {
   "cell_type": "code",
   "execution_count": 11,
   "metadata": {
    "scrolled": false
   },
   "outputs": [
    {
     "data": {
      "image/png": "[encoded data removed]",
      "text/plain": [
       "<Figure size 1152x576 with 1 Axes>"
      ]
     },
     "metadata": {
      "needs_background": "light"
     },
     "output_type": "display_data"
    }
   ],
   "source": [
    "df['real_age'].plot(kind='hist', bins=99, figsize=(16, 8), grid=True)\n",
    "plt.title('Распределение численности людей от возраста')\n",
    "plt.ylabel('Кол-во людей')\n",
    "plt.xlabel('Возраст, лет');"
   ]
  },
  {
   "cell_type": "code",
   "execution_count": null,
   "metadata": {},
   "outputs": [],
   "source": [
    "fig = plt.figure(figsize=(16, 16))\n",
    "for i in range(16):\n",
    "    fig.add_subplot(4, 4, i+1)\n",
    "    plt.imshow(features[i+8])\n",
    "    plt.xlabel(target[i+8])\n",
    "    \n",
    "    # для компактности оси остаются пустыми и прижимаем изображения друг к другу\n",
    "    plt.xticks([])\n",
    "    plt.yticks([])\n",
    "    plt.tight_layout()"
   ]
  },
  {
   "cell_type": "code",
   "execution_count": null,
   "metadata": {},
   "outputs": [],
   "source": []
  },
  {
   "cell_type": "markdown",
   "metadata": {},
   "source": [
    "#### Вывод:\n",
    "Датасет содержит более 7500 фотографий без пропусков и дубликатов. В нем присутствуют как цветные, так и черно-белые изображения с разными ракурсами и различными артефактами, такими как закрытые лица, тени, предметы на фоне и другие факторы.\n",
    "\n",
    "Распределение возрастных групп в датасете неоднородно, с наибольшим количеством фотографий людей в возрасте 15-30 лет. Отмечаются пики в возрасте 25 и 30 лет, а также значительное количество фотографий младенцев возрастом 1 год и младше. Возможно, это связано с округлением возраста детей до 1 года. Группа возраста 0 лет отсутствует."
   ]
  },
  {
   "cell_type": "markdown",
   "metadata": {},
   "source": [
    "## Обучение модели"
   ]
  },
  {
   "cell_type": "markdown",
   "metadata": {},
   "source": [
    "Перенесите сюда код обучения модели и её результат вывода на экран.\n",
    "\n",
    "\n",
    "(Код в этом разделе запускается в отдельном GPU-тренажёре, поэтому оформлен не как ячейка с кодом, а как код в текстовой ячейке)"
   ]
  },
  {
   "cell_type": "markdown",
   "metadata": {},
   "source": [
    "```python\n",
    "\n",
    "# < \n",
    "def load_train(path):\n",
    "    # создание загрузчика данных\n",
    "    train_datagen = ImageDataGenerator(validation_split=0.25, rescale=1/255, vertical_flip=True)\n",
    "    \n",
    "    # загрузка данных (по частям/батчам)\n",
    "    train_datagen_flow = train_datagen.flow_from_dataframe(\n",
    "        directory=path + '/final_files',\n",
    "        dataframe=pd.read_csv(path + '/labels.csv'),\n",
    "        x_col='file_name',\n",
    "        y_col='real_age',\n",
    "        target_size=(200, 200),\n",
    "        batch_size=32,\n",
    "        class_mode='raw',\n",
    "        subset='training',\n",
    "        seed=12345)\n",
    "    \n",
    "    return train_datagen_flow\n",
    "\n",
    "\n",
    "\n",
    "# функция загрузки тестовых (валидационных) данных\n",
    "def load_test(path):\n",
    "    valid_datagen = ImageDataGenerator(validation_split=0.25, rescale=1/255)\n",
    "    \n",
    "    valid_datagen_flow = valid_datagen.flow_from_dataframe(\n",
    "        directory=path + '/final_files',\n",
    "        dataframe=pd.read_csv(path + '/labels.csv'),\n",
    "        x_col='file_name',\n",
    "        y_col='real_age',\n",
    "        target_size=(200, 200),\n",
    "        batch_size=32,\n",
    "        class_mode='raw',\n",
    "        subset='validation',\n",
    "        seed=12345)\n",
    "    \n",
    "    return valid_datagen_flow\n",
    "\n",
    "\n",
    "\n",
    "# функция создания нейронной сети\n",
    "def create_model(input_shape):\n",
    "    backbone = ResNet50(input_shape=input_shape,\n",
    "                        weights='imagenet',\n",
    "                        include_top=False)\n",
    "    \n",
    "    model = Sequential() # инициализация многослойной структуры\n",
    "    model.add(backbone) # Средний слой - Костяк из внутренних повторяющихся блоков свёртки\n",
    "    model.add(GlobalAveragePooling2D()) # Ending - Глобальный пуллинг (по всей фотографии)\n",
    "    model.add(Dense(1, activation='relu')) # Ending - Полносвязный слой\n",
    "\n",
    "    optimizer = Adam(lr=0.0001)\n",
    "    model.compile(optimizer=optimizer, loss='mean_squared_error', metrics=['mae']) \n",
    "    return model\n",
    "\n",
    "\n",
    "\n",
    "# функция обучения нейронной сети\n",
    "def train_model(model, train_data, test_data, batch_size=None, epochs=10, steps_per_epoch=None, validation_steps=None):\n",
    "    model.fit(train_data, \n",
    "              validation_data=test_data,\n",
    "              batch_size=batch_size,\n",
    "              epochs=epochs,\n",
    "              steps_per_epoch=steps_per_epoch,\n",
    "              validation_steps=validation_steps,\n",
    "              verbose=2)\n",
    "\n",
    "    return model >\n",
    "\n",
    "```"
   ]
  },
  {
   "cell_type": "markdown",
   "metadata": {},
   "source": [
    "```\n",
    "\n",
    "# < \n",
    "178/178 - 48s - loss: 280.6827 - mae: 12.1914 - val_loss: 702.9795 - val_mae: 21.5727\n",
    "Epoch 2/10\n",
    "178/178 - 39s - loss: 98.0859 - mae: 7.5060 - val_loss: 763.5874 - val_mae: 22.6452\n",
    "Epoch 3/10\n",
    "178/178 - 39s - loss: 67.2130 - mae: 6.2031 - val_loss: 261.1367 - val_mae: 12.0625\n",
    "Epoch 4/10\n",
    "178/178 - 39s - loss: 46.9451 - mae: 5.1635 - val_loss: 149.3413 - val_mae: 9.2328\n",
    "Epoch 5/10\n",
    "178/178 - 39s - loss: 35.1819 - mae: 4.5016 - val_loss: 132.5427 - val_mae: 8.9590\n",
    "Epoch 6/10\n",
    "178/178 - 39s - loss: 28.1541 - mae: 3.9748 - val_loss: 81.5846 - val_mae: 6.9236\n",
    "Epoch 7/10\n",
    "178/178 - 39s - loss: 23.0138 - mae: 3.6843 - val_loss: 75.1960 - val_mae: 6.4782\n",
    "Epoch 8/10\n",
    "178/178 - 39s - loss: 19.0991 - mae: 3.3694 - val_loss: 80.6296 - val_mae: 6.9239\n",
    "Epoch 9/10\n",
    "178/178 - 38s - loss: 15.8476 - mae: 3.0457 - val_loss: 95.6592 - val_mae: 7.2040\n",
    "Epoch 10/10\n",
    "178/178 - 38s - loss: 13.8886 - mae: 2.8552 - val_loss: 89.3085 - val_mae: 7.0417\n",
    "\n",
    "Test MAE: 7.0417 \n",
    ">\n",
    "# < длинные строки со скачиванием модели можно удалить >\n",
    "\n",
    "```"
   ]
  },
  {
   "cell_type": "markdown",
   "metadata": {},
   "source": [
    "## Анализ обученной модели"
   ]
  },
  {
   "cell_type": "markdown",
   "metadata": {},
   "source": [
    "Проект использует архитектуру ResNet50 с блоками сверточных слоев, предобученную на изображениях, и алгоритм обучения нейронной сети Adam. Это позволяет существенно сократить время обучения до 7.5 минут при использовании GPU. Значение метрики MAE на тестовой выборке составляет 7.0417. Это значение можно интерпретировать как погрешность предсказанного возраста в пределах ± 7.04 лет.\n",
    "\n",
    "Этот подход позволяет определить, к какой возрастной группе можно отнести человека. Это полезно для формирования рекомендаций по товарам. Однако, он не подходит для точного определения совершеннолетия покупателя, так как с текущей погрешностью будут часто возникать ложные срабатывания и ошибки. Для задачи определения совершеннолетия, возможно, потребуется отдельная модель, которая будет классифицировать людей на две категории.\n",
    "\n",
    "Обучение модели проходит в течение первых 5 эпох, что заметно по динамике функции ошибки и метрик. Последующие эпохи (5-10) позволяют незначительно улучшить результаты предсказаний. Можно остановить обучение после 5 эпох (минимум), но при наличии ресурсов можно попробовать обучать дольше. Однако, решение о длительности обучения также зависит от приоритетов заказчика: \"скорость\" или \"качество\".\n",
    "\n",
    "В дальнейшем, исходя из уточнений и потребностей заказчика, можно внести изменения в параметры и структуру модели для улучшения ее производительности."
   ]
  },
  {
   "cell_type": "markdown",
   "metadata": {},
   "source": [
    "## Чек-лист"
   ]
  },
  {
   "cell_type": "markdown",
   "metadata": {},
   "source": [
    "- [x]  Jupyter Notebook открыт\n",
    "- [x]  Весь код выполняется без ошибок\n",
    "- [x]  Ячейки с кодом расположены в порядке исполнения\n",
    "- [x]  Исследовательский анализ данных выполнен\n",
    "- [x]  Результаты исследовательского анализа данных перенесены в финальную тетрадь\n",
    "- [x]  MAE модели не больше 8\n",
    "- [x]  Код обучения модели скопирован в финальную тетрадь\n",
    "- [x]  Результат вывода модели на экран перенесён в финальную тетрадь\n",
    "- [x]  По итогам обучения модели сделаны выводы"
   ]
  },
  {
   "cell_type": "code",
   "execution_count": null,
   "metadata": {},
   "outputs": [],
   "source": []
  }
 ],
 "metadata": {
  "kernelspec": {
   "display_name": "Python 3 (ipykernel)",
   "language": "python",
   "name": "python3"
  },
  "language_info": {
   "codemirror_mode": {
    "name": "ipython",
    "version": 3
   },
   "file_extension": ".py",
   "mimetype": "text/x-python",
   "name": "python",
   "nbconvert_exporter": "python",
   "pygments_lexer": "ipython3",
   "version": "3.11.3"
  },
  "toc": {
   "base_numbering": 1,
   "nav_menu": {},
   "number_sections": true,
   "sideBar": true,
   "skip_h1_title": true,
   "title_cell": "Table of Contents",
   "title_sidebar": "Contents",
   "toc_cell": false,
   "toc_position": {},
   "toc_section_display": true,
   "toc_window_display": false
  }
 },
 "nbformat": 4,
 "nbformat_minor": 2
}
