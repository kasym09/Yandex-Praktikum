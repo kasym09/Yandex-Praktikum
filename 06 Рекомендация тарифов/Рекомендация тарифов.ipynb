{
 "cells": [
  {
   "cell_type": "markdown",
   "metadata": {},
   "source": [
    "# Рекомендация тарифов"
   ]
  },
  {
   "cell_type": "markdown",
   "metadata": {},
   "source": [
    "В вашем распоряжении данные о поведении клиентов, которые уже перешли на эти тарифы (из проекта курса «Статистический анализ данных»). Нужно построить модель для задачи классификации, которая выберет подходящий тариф. Предобработка данных не понадобится — вы её уже сделали.\n",
    "\n",
    "Постройте модель с максимально большим значением *accuracy*. Чтобы сдать проект успешно, нужно довести долю правильных ответов по крайней мере до 0.75. Проверьте *accuracy* на тестовой выборке самостоятельно."
   ]
  },
  {
   "cell_type": "markdown",
   "metadata": {},
   "source": [
    "### Шаг 0. Подключение библиотек"
   ]
  },
  {
   "cell_type": "code",
   "execution_count": 2,
   "metadata": {},
   "outputs": [],
   "source": [
    "import pandas as pd\n",
    "import matplotlib.pyplot as plt\n",
    "import seaborn as sns\n",
    "import numpy as np\n",
    "from sklearn.model_selection import train_test_split"
   ]
  },
  {
   "cell_type": "markdown",
   "metadata": {},
   "source": [
    "### Шаг 1. Откройте файл с данными и изучите его. "
   ]
  },
  {
   "cell_type": "markdown",
   "metadata": {},
   "source": [
    "Сперва загрузим файл и отобразим 5 строк"
   ]
  },
  {
   "cell_type": "code",
   "execution_count": 3,
   "metadata": {},
   "outputs": [],
   "source": [
    "try:\n",
    "    df = pd.read_csv('users_behavior.csv')\n",
    "except:\n",
    "    df = pd.read_csv('D:\\DDownloads/users_behavior.csv')"
   ]
  },
  {
   "cell_type": "code",
   "execution_count": 4,
   "metadata": {},
   "outputs": [
    {
     "data": {
      "text/html": [
       "<div>\n",
       "<style scoped>\n",
       "    .dataframe tbody tr th:only-of-type {\n",
       "        vertical-align: middle;\n",
       "    }\n",
       "\n",
       "    .dataframe tbody tr th {\n",
       "        vertical-align: top;\n",
       "    }\n",
       "\n",
       "    .dataframe thead th {\n",
       "        text-align: right;\n",
       "    }\n",
       "</style>\n",
       "<table border=\"1\" class=\"dataframe\">\n",
       "  <thead>\n",
       "    <tr style=\"text-align: right;\">\n",
       "      <th></th>\n",
       "      <th>calls</th>\n",
       "      <th>minutes</th>\n",
       "      <th>messages</th>\n",
       "      <th>mb_used</th>\n",
       "      <th>is_ultra</th>\n",
       "    </tr>\n",
       "  </thead>\n",
       "  <tbody>\n",
       "    <tr>\n",
       "      <th>2094</th>\n",
       "      <td>126.0</td>\n",
       "      <td>838.33</td>\n",
       "      <td>33.0</td>\n",
       "      <td>23847.00</td>\n",
       "      <td>0</td>\n",
       "    </tr>\n",
       "    <tr>\n",
       "      <th>3083</th>\n",
       "      <td>69.0</td>\n",
       "      <td>475.54</td>\n",
       "      <td>64.0</td>\n",
       "      <td>12479.22</td>\n",
       "      <td>0</td>\n",
       "    </tr>\n",
       "    <tr>\n",
       "      <th>691</th>\n",
       "      <td>24.0</td>\n",
       "      <td>136.24</td>\n",
       "      <td>11.0</td>\n",
       "      <td>15174.05</td>\n",
       "      <td>0</td>\n",
       "    </tr>\n",
       "    <tr>\n",
       "      <th>2045</th>\n",
       "      <td>92.0</td>\n",
       "      <td>596.72</td>\n",
       "      <td>62.0</td>\n",
       "      <td>21558.02</td>\n",
       "      <td>0</td>\n",
       "    </tr>\n",
       "    <tr>\n",
       "      <th>297</th>\n",
       "      <td>85.0</td>\n",
       "      <td>490.25</td>\n",
       "      <td>57.0</td>\n",
       "      <td>16663.03</td>\n",
       "      <td>0</td>\n",
       "    </tr>\n",
       "  </tbody>\n",
       "</table>\n",
       "</div>"
      ],
      "text/plain": [
       "      calls  minutes  messages   mb_used  is_ultra\n",
       "2094  126.0   838.33      33.0  23847.00         0\n",
       "3083   69.0   475.54      64.0  12479.22         0\n",
       "691    24.0   136.24      11.0  15174.05         0\n",
       "2045   92.0   596.72      62.0  21558.02         0\n",
       "297    85.0   490.25      57.0  16663.03         0"
      ]
     },
     "execution_count": 4,
     "metadata": {},
     "output_type": "execute_result"
    }
   ],
   "source": [
    "df.sample(5)"
   ]
  },
  {
   "cell_type": "code",
   "execution_count": 5,
   "metadata": {},
   "outputs": [
    {
     "data": {
      "text/plain": [
       "(3214, 5)"
      ]
     },
     "execution_count": 5,
     "metadata": {},
     "output_type": "execute_result"
    }
   ],
   "source": [
    "df.shape"
   ]
  },
  {
   "cell_type": "code",
   "execution_count": 6,
   "metadata": {},
   "outputs": [
    {
     "name": "stdout",
     "output_type": "stream",
     "text": [
      "<class 'pandas.core.frame.DataFrame'>\n",
      "RangeIndex: 3214 entries, 0 to 3213\n",
      "Data columns (total 5 columns):\n",
      " #   Column    Non-Null Count  Dtype  \n",
      "---  ------    --------------  -----  \n",
      " 0   calls     3214 non-null   float64\n",
      " 1   minutes   3214 non-null   float64\n",
      " 2   messages  3214 non-null   float64\n",
      " 3   mb_used   3214 non-null   float64\n",
      " 4   is_ultra  3214 non-null   int64  \n",
      "dtypes: float64(4), int64(1)\n",
      "memory usage: 125.7 KB\n"
     ]
    }
   ],
   "source": [
    "df.info()"
   ]
  },
  {
   "cell_type": "code",
   "execution_count": 7,
   "metadata": {},
   "outputs": [],
   "source": [
    "features = df.drop(['is_ultra'], axis=1)\n",
    "target = df['is_ultra']"
   ]
  },
  {
   "cell_type": "markdown",
   "metadata": {},
   "source": [
    "Файл с данными находится по пути /datasets/users_behavior.csv. В нем содержится информация о поведении пользователей в мобильном приложении. Датасет содержит 5 столбцов и 3214 строк. Пропусков в данных нет. Столбец 'is_ultra' является целевым, в нем содержится информация о том, является ли клиент пользователям тарифа \"Ультра\"."
   ]
  },
  {
   "cell_type": "markdown",
   "metadata": {},
   "source": [
    "## 2 Разбейте данные на выборки"
   ]
  },
  {
   "cell_type": "markdown",
   "metadata": {},
   "source": [
    "так как спрятанной тестовой выборки нет, разбиваем данные на три части:обучающую, валидационную и тестовую в соотношении 3:1:1."
   ]
  },
  {
   "cell_type": "code",
   "execution_count": 8,
   "metadata": {},
   "outputs": [],
   "source": [
    "#Разбиваем данные на обучающую/валидационную и тестовую выборку\n",
    "features_train_val, features_test, target_train_val, target_test = train_test_split(features, target, test_size=0.2, random_state=12345)"
   ]
  },
  {
   "cell_type": "code",
   "execution_count": 26,
   "metadata": {},
   "outputs": [
    {
     "data": {
      "text/plain": [
       "(2571, 4)"
      ]
     },
     "execution_count": 26,
     "metadata": {},
     "output_type": "execute_result"
    }
   ],
   "source": [
    "features_train_val.shape"
   ]
  },
  {
   "cell_type": "code",
   "execution_count": 27,
   "metadata": {},
   "outputs": [
    {
     "data": {
      "text/plain": [
       "(643, 4)"
      ]
     },
     "execution_count": 27,
     "metadata": {},
     "output_type": "execute_result"
    }
   ],
   "source": [
    "features_test.shape"
   ]
  },
  {
   "cell_type": "code",
   "execution_count": 28,
   "metadata": {},
   "outputs": [
    {
     "data": {
      "text/plain": [
       "(2571,)"
      ]
     },
     "execution_count": 28,
     "metadata": {},
     "output_type": "execute_result"
    }
   ],
   "source": [
    "target_train_val.shape"
   ]
  },
  {
   "cell_type": "code",
   "execution_count": 29,
   "metadata": {},
   "outputs": [
    {
     "data": {
      "text/plain": [
       "(643,)"
      ]
     },
     "execution_count": 29,
     "metadata": {},
     "output_type": "execute_result"
    }
   ],
   "source": [
    "target_test.shape"
   ]
  },
  {
   "cell_type": "code",
   "execution_count": 10,
   "metadata": {},
   "outputs": [],
   "source": [
    "#Далее разделим обучающую и валидационную выборки\n",
    "features_train, features_val, target_train, target_val = train_test_split(features_train_val, target_train_val, test_size=0.25, random_state=12345)"
   ]
  },
  {
   "cell_type": "code",
   "execution_count": 31,
   "metadata": {},
   "outputs": [
    {
     "data": {
      "text/plain": [
       "(1928, 4)"
      ]
     },
     "execution_count": 31,
     "metadata": {},
     "output_type": "execute_result"
    }
   ],
   "source": [
    "features_train.shape"
   ]
  },
  {
   "cell_type": "code",
   "execution_count": 32,
   "metadata": {},
   "outputs": [
    {
     "data": {
      "text/plain": [
       "(643, 4)"
      ]
     },
     "execution_count": 32,
     "metadata": {},
     "output_type": "execute_result"
    }
   ],
   "source": [
    "features_val.shape"
   ]
  },
  {
   "cell_type": "code",
   "execution_count": 33,
   "metadata": {},
   "outputs": [
    {
     "data": {
      "text/plain": [
       "(1928,)"
      ]
     },
     "execution_count": 33,
     "metadata": {},
     "output_type": "execute_result"
    }
   ],
   "source": [
    "target_train.shape"
   ]
  },
  {
   "cell_type": "code",
   "execution_count": 34,
   "metadata": {},
   "outputs": [
    {
     "data": {
      "text/plain": [
       "(643,)"
      ]
     },
     "execution_count": 34,
     "metadata": {},
     "output_type": "execute_result"
    }
   ],
   "source": [
    "target_val.shape"
   ]
  },
  {
   "cell_type": "markdown",
   "metadata": {},
   "source": [
    "На данном этапе мы разделили исходные данные на три выборки - обучающую, валидационную и тестовую в соотношении 3:1:1. Это необходимо для обучения модели, подбора гиперпараметров и проверки ее качества на отложенной тестовой выборке. Разбиение данных позволит избежать переобучения модели и даст более объективную оценку ее работы."
   ]
  },
  {
   "cell_type": "markdown",
   "metadata": {},
   "source": [
    "## 3 Исследуйте модели"
   ]
  },
  {
   "cell_type": "markdown",
   "metadata": {},
   "source": [
    "Сначала начнем с решающего дерева"
   ]
  },
  {
   "cell_type": "code",
   "execution_count": 11,
   "metadata": {},
   "outputs": [
    {
     "name": "stdout",
     "output_type": "stream",
     "text": [
      "max_depth = 1 : Accuracy = 0.7387247278382582\n",
      "max_depth = 2 : Accuracy = 0.7573872472783826\n",
      "max_depth = 3 : Accuracy = 0.7651632970451011\n",
      "max_depth = 4 : Accuracy = 0.7636080870917574\n",
      "max_depth = 5 : Accuracy = 0.7589424572317263\n",
      "max_depth = 6 : Accuracy = 0.7573872472783826\n",
      "max_depth = 7 : Accuracy = 0.7744945567651633\n",
      "max_depth = 8 : Accuracy = 0.7667185069984448\n",
      "max_depth = 9 : Accuracy = 0.7620528771384136\n",
      "max_depth = 10 : Accuracy = 0.7713841368584758\n"
     ]
    }
   ],
   "source": [
    "from sklearn.metrics import accuracy_score\n",
    "from sklearn.tree import DecisionTreeClassifier\n",
    "\n",
    "for depth in range(1, 11):\n",
    "    model = DecisionTreeClassifier(random_state=12345, max_depth=depth)\n",
    "    model.fit(features_train, target_train)\n",
    "    predicted_val = model.predict(features_val)\n",
    "    accuracy = accuracy_score(target_val, predicted_val)\n",
    "    print(\"max_depth =\", depth, \": Accuracy =\", accuracy)\n"
   ]
  },
  {
   "cell_type": "markdown",
   "metadata": {},
   "source": [
    "как видим чем больше глубина дерева, тем больше и точность. Лучшую точность показала модель с глубиной дерева 10, Accuracy = 0.77"
   ]
  },
  {
   "cell_type": "markdown",
   "metadata": {},
   "source": [
    "увеличим глубину"
   ]
  },
  {
   "cell_type": "code",
   "execution_count": 12,
   "metadata": {},
   "outputs": [
    {
     "name": "stdout",
     "output_type": "stream",
     "text": [
      "max_depth = 10 : Accuracy = 0.7713841368584758\n",
      "max_depth = 11 : Accuracy = 0.7589424572317263\n",
      "max_depth = 12 : Accuracy = 0.7558320373250389\n",
      "max_depth = 13 : Accuracy = 0.749611197511664\n",
      "max_depth = 14 : Accuracy = 0.7573872472783826\n",
      "max_depth = 15 : Accuracy = 0.7527216174183515\n",
      "max_depth = 16 : Accuracy = 0.749611197511664\n",
      "max_depth = 17 : Accuracy = 0.7387247278382582\n",
      "max_depth = 18 : Accuracy = 0.7418351477449455\n",
      "max_depth = 19 : Accuracy = 0.7356143079315708\n",
      "max_depth = 20 : Accuracy = 0.7293934681181959\n",
      "Wall time: 104 ms\n"
     ]
    }
   ],
   "source": [
    "%%time\n",
    "\n",
    "from sklearn.metrics import accuracy_score\n",
    "from sklearn.tree import DecisionTreeClassifier\n",
    "\n",
    "for depth in range(10, 21):\n",
    "    model = DecisionTreeClassifier(random_state=12345, max_depth=depth)\n",
    "    model.fit(features_train, target_train)\n",
    "    predicted_val = model.predict(features_val)\n",
    "    accuracy = accuracy_score(target_val, predicted_val)\n",
    "    print(\"max_depth =\", depth, \": Accuracy =\", accuracy)"
   ]
  },
  {
   "cell_type": "markdown",
   "metadata": {},
   "source": [
    "как видим модель столкнулась с переобучением. Лучшую точность показала модель с глубиной дерева 10, Accuracy = 0.77. "
   ]
  },
  {
   "cell_type": "code",
   "execution_count": 13,
   "metadata": {},
   "outputs": [
    {
     "name": "stdout",
     "output_type": "stream",
     "text": [
      "Глубина дерева 10 Точность 0.7713841368584758\n"
     ]
    }
   ],
   "source": [
    "best_decision_tree = DecisionTreeClassifier(random_state=12345, max_depth=10)\n",
    "best_decision_tree.fit(features_train, target_train)\n",
    "predicted_val = best_decision_tree.predict(features_val)\n",
    "accuracy = accuracy_score(target_val, predicted_val)\n",
    "print('Глубина дерева', 10,'Точность',accuracy)"
   ]
  },
  {
   "cell_type": "markdown",
   "metadata": {},
   "source": [
    "переберем гиперпараметр criterion:"
   ]
  },
  {
   "cell_type": "code",
   "execution_count": 36,
   "metadata": {},
   "outputs": [
    {
     "name": "stdout",
     "output_type": "stream",
     "text": [
      "Лучший результат: 0.7713841368584758 при критерии gini\n"
     ]
    }
   ],
   "source": [
    "best_accuracy = 0\n",
    "best_criterion = ''\n",
    "for criterion in ['gini', 'entropy']:\n",
    "    model = DecisionTreeClassifier(random_state=12345, max_depth=10, criterion=criterion)\n",
    "    model.fit(features_train, target_train)\n",
    "    predicted_val = model.predict(features_val)\n",
    "    accuracy = accuracy_score(target_val, predicted_val)\n",
    "    if accuracy > best_accuracy:\n",
    "        best_accuracy = accuracy\n",
    "        best_criterion = criterion\n",
    "print('Лучший результат:', best_accuracy, 'при критерии', best_criterion)\n"
   ]
  },
  {
   "cell_type": "markdown",
   "metadata": {},
   "source": [
    "с дефолтным параметром criterion модель показывает себя лучше."
   ]
  },
  {
   "cell_type": "markdown",
   "metadata": {},
   "source": [
    "Далее изучим случайный лес:"
   ]
  },
  {
   "cell_type": "code",
   "execution_count": 15,
   "metadata": {},
   "outputs": [
    {
     "name": "stdout",
     "output_type": "stream",
     "text": [
      "Лучшее значение accuracy: 0.7978227060653188\n",
      "Лучшие гиперпараметры n_estimators и max_depth: 50 , 10\n"
     ]
    }
   ],
   "source": [
    "from sklearn.ensemble import RandomForestClassifier\n",
    "from sklearn.metrics import accuracy_score\n",
    "\n",
    "# задаем значения гиперпараметров, которые мы будем менять\n",
    "n_estimators = [10, 20, 30, 50, 100]\n",
    "max_depth = [None, 2, 5, 10, 20]\n",
    "\n",
    "# создаем цикл, который перебирает все возможные комбинации гиперпараметров\n",
    "best_accuracy = 0\n",
    "for n in n_estimators:\n",
    "    for d in max_depth:\n",
    "        # создаем модель с текущими значениями гиперпараметров\n",
    "        model = RandomForestClassifier(n_estimators=n, max_depth=d, random_state=12345)\n",
    "        # обучаем модель на обучающей выборке\n",
    "        model.fit(features_train, target_train)\n",
    "        # получаем предсказания на валидационной выборке\n",
    "        predictions = model.predict(features_val)\n",
    "        # оцениваем качество модели с помощью метрики accuracy\n",
    "        accuracy = accuracy_score(target_val, predictions)\n",
    "        # если текущее значение accuracy лучше предыдущего лучшего значения, сохраняем гиперпараметры и значение accuracy\n",
    "        if accuracy > best_accuracy:\n",
    "            best_accuracy = accuracy\n",
    "            best_n = n\n",
    "            best_d = d\n",
    "\n",
    "print('Лучшее значение accuracy:', best_accuracy)\n",
    "print('Лучшие гиперпараметры n_estimators и max_depth:', best_n, ',', best_d)\n"
   ]
  },
  {
   "cell_type": "markdown",
   "metadata": {},
   "source": [
    "тут уже модель работает чуть лучше 0.797 vs 0.77, но максимальное количество деревьев не значит хорошо, лучший результат у n_estimators - 50"
   ]
  },
  {
   "cell_type": "markdown",
   "metadata": {},
   "source": [
    "немного изменим гиперпараметры:"
   ]
  },
  {
   "cell_type": "code",
   "execution_count": 16,
   "metadata": {},
   "outputs": [
    {
     "name": "stdout",
     "output_type": "stream",
     "text": [
      "Лучшее значение accuracy: 0.8009331259720062\n",
      "Лучшие гиперпараметры n_estimators и max_depth: 150 , 30\n"
     ]
    }
   ],
   "source": [
    "from sklearn.ensemble import RandomForestClassifier\n",
    "from sklearn.metrics import accuracy_score\n",
    "\n",
    "# задаем значения гиперпараметров, которые мы будем менять\n",
    "n_estimators = [150, 200, 250, 300, 350]\n",
    "max_depth = [25, 30, 35, 40, 45]\n",
    "\n",
    "# создаем цикл, который перебирает все возможные комбинации гиперпараметров\n",
    "best_accuracy = 0\n",
    "for n in n_estimators:\n",
    "    for d in max_depth:\n",
    "        # создаем модель с текущими значениями гиперпараметров\n",
    "        model = RandomForestClassifier(n_estimators=n, max_depth=d, random_state=12345)\n",
    "        # обучаем модель на обучающей выборке\n",
    "        model.fit(features_train, target_train)\n",
    "        # получаем предсказания на валидационной выборке\n",
    "        predictions = model.predict(features_val)\n",
    "        # оцениваем качество модели с помощью метрики accuracy\n",
    "        accuracy = accuracy_score(target_val, predictions)\n",
    "        # если текущее значение accuracy лучше предыдущего лучшего значения, сохраняем гиперпараметры и значение accuracy\n",
    "        if accuracy > best_accuracy:\n",
    "            best_accuracy = accuracy\n",
    "            best_n = n\n",
    "            best_d = d\n",
    "\n",
    "print('Лучшее значение accuracy:', best_accuracy)\n",
    "print('Лучшие гиперпараметры n_estimators и max_depth:', best_n, ',', best_d)\n"
   ]
  },
  {
   "cell_type": "markdown",
   "metadata": {},
   "source": [
    "теперь уже модель стало лучше, результат 0,8. Лучшие гиперпараметры n_estimators и max_depth: 150 , 30"
   ]
  },
  {
   "cell_type": "code",
   "execution_count": 17,
   "metadata": {},
   "outputs": [
    {
     "name": "stdout",
     "output_type": "stream",
     "text": [
      "Количество деревьев 150 Точность 0.8009331259720062\n"
     ]
    }
   ],
   "source": [
    "best_random_forest = RandomForestClassifier(random_state=12345, n_estimators=150, max_depth=30)\n",
    "best_random_forest.fit(features_train, target_train)\n",
    "predicted_val_random = best_random_forest.predict(features_val)\n",
    "accuracy = accuracy_score(target_val, predicted_val_random)\n",
    "print('Количество деревьев', 150,'Точность',accuracy)"
   ]
  },
  {
   "cell_type": "code",
   "execution_count": 18,
   "metadata": {},
   "outputs": [
    {
     "name": "stdout",
     "output_type": "stream",
     "text": [
      "Количество деревьев 150 Точность 0.7993779160186625\n"
     ]
    }
   ],
   "source": [
    "best_random_forest = RandomForestClassifier(random_state=12345, n_estimators=150, max_depth=30, criterion='entropy')\n",
    "best_random_forest.fit(features_train, target_train)\n",
    "predicted_val_random = best_random_forest.predict(features_val)\n",
    "accuracy = accuracy_score(target_val, predicted_val_random)\n",
    "print('Количество деревьев', 150,'Точность',accuracy)"
   ]
  },
  {
   "cell_type": "markdown",
   "metadata": {},
   "source": [
    "тут так же с дефолтным параметром criterion модель показывает себя лучше."
   ]
  },
  {
   "cell_type": "markdown",
   "metadata": {},
   "source": [
    "изменим гиперпараметр bootstrap:"
   ]
  },
  {
   "cell_type": "code",
   "execution_count": 37,
   "metadata": {},
   "outputs": [
    {
     "name": "stdout",
     "output_type": "stream",
     "text": [
      "Количество деревьев 150 доля правильных ответов 0.7791601866251944\n"
     ]
    }
   ],
   "source": [
    "best_random_forest = RandomForestClassifier(random_state=12345, n_estimators=150, max_depth=30, bootstrap=False)\n",
    "best_random_forest.fit(features_train, target_train)\n",
    "predicted_val_random = best_random_forest.predict(features_val)\n",
    "accuracy = accuracy_score(target_val, predicted_val_random)\n",
    "print('Количество деревьев', 150,'доля правильных ответов',accuracy)"
   ]
  },
  {
   "cell_type": "markdown",
   "metadata": {},
   "source": [
    "проверим логистическую регрессию:"
   ]
  },
  {
   "cell_type": "code",
   "execution_count": 20,
   "metadata": {},
   "outputs": [
    {
     "name": "stdout",
     "output_type": "stream",
     "text": [
      "Лучшее значение accuracy на валидационной выборке: 0.73 (параметр C = 0.1)\n"
     ]
    }
   ],
   "source": [
    "from sklearn.linear_model import LogisticRegression\n",
    "from sklearn.metrics import accuracy_score\n",
    "\n",
    "# Зададим список значений параметра регуляризации\n",
    "C_values = [0.01, 0.1, 1, 10, 100]\n",
    "\n",
    "# Инициализируем переменную для хранения лучшего значения accuracy и соответствующего параметра C\n",
    "best_accuracy = 0\n",
    "best_C = None\n",
    "\n",
    "# Проходимся по всем значениям параметра C\n",
    "for C in C_values:\n",
    "    # Инициализируем модель с текущим значением параметра C\n",
    "    model = LogisticRegression(C=C, random_state=12345)\n",
    "    \n",
    "    # Обучаем модель на обучающих данных\n",
    "    model.fit(features_train, target_train)\n",
    "    \n",
    "    # Получаем предсказания на валидационных данных\n",
    "    predicted_val = model.predict(features_val)\n",
    "    \n",
    "    # Вычисляем accuracy на валидационных данных\n",
    "    accuracy = accuracy_score(target_val, predicted_val)\n",
    "    \n",
    "    # Сравниваем полученное значение accuracy с лучшим значением и,\n",
    "    # если оно лучше, запоминаем его и соответствующее значение параметра C\n",
    "    if accuracy > best_accuracy:\n",
    "        best_accuracy = accuracy\n",
    "        best_C = C\n",
    "\n",
    "# Обучаем модель на обучающих и валидационных данных с лучшим значением параметра C\n",
    "model = LogisticRegression(C=best_C, random_state=12345)\n",
    "model.fit(features_train_val, target_train_val)\n",
    "\n",
    "print(f\"Лучшее значение accuracy на валидационной выборке: {best_accuracy:.2f} (параметр C = {best_C})\")\n",
    "\n"
   ]
  },
  {
   "cell_type": "markdown",
   "metadata": {},
   "source": [
    "немного подправим гиперпараметры, изменим С и солвер:"
   ]
  },
  {
   "cell_type": "code",
   "execution_count": 21,
   "metadata": {},
   "outputs": [
    {
     "name": "stdout",
     "output_type": "stream",
     "text": [
      "Лучшее значение accuracy на валидационной выборке: 0.73 (параметр C = 0.3)\n"
     ]
    }
   ],
   "source": [
    "from sklearn.linear_model import LogisticRegression\n",
    "from sklearn.metrics import accuracy_score\n",
    "\n",
    "# Зададим список значений параметра регуляризации\n",
    "C_values = [0.01, 0.1, 0.2, 0.3, 0.4, 0.5, 0.6, 0.7, 0.8, 0.9, 1]\n",
    "\n",
    "# Инициализируем переменную для хранения лучшего значения accuracy и соответствующего параметра C\n",
    "best_accuracy = 0\n",
    "best_C = None\n",
    "\n",
    "# Проходимся по всем значениям параметра C\n",
    "for C in C_values:\n",
    "    # Инициализируем модель с текущим значением параметра C\n",
    "    model = LogisticRegression(C=C, random_state=12345, solver='liblinear')\n",
    "    \n",
    "    # Обучаем модель на обучающих данных\n",
    "    model.fit(features_train, target_train)\n",
    "    \n",
    "    # Получаем предсказания на валидационных данных\n",
    "    predicted_val = model.predict(features_val)\n",
    "    \n",
    "    # Вычисляем accuracy на валидационных данных\n",
    "    accuracy = accuracy_score(target_val, predicted_val)\n",
    "    \n",
    "    # Сравниваем полученное значение accuracy с лучшим значением и,\n",
    "    # если оно лучше, запоминаем его и соответствующее значение параметра C\n",
    "    if accuracy > best_accuracy:\n",
    "        best_accuracy = accuracy\n",
    "        best_C = C\n",
    "\n",
    "# Обучаем модель на обучающих и валидационных данных с лучшим значением параметра C\n",
    "model = LogisticRegression(C=best_C, random_state=12345)\n",
    "model.fit(features_train_val, target_train_val)\n",
    "\n",
    "print(f\"Лучшее значение accuracy на валидационной выборке: {best_accuracy:.2f} (параметр C = {best_C})\")\n",
    "\n"
   ]
  },
  {
   "cell_type": "markdown",
   "metadata": {},
   "source": [
    "как видим, результат точности модели одинаков 0.73, оставим как есть."
   ]
  },
  {
   "cell_type": "markdown",
   "metadata": {},
   "source": [
    "При исследовании качества разных моделей на задаче классификации пользовательского поведения было обнаружено, что модель случайного леса показала лучший результат с точностью 0.8 на тестовой выборке. Было проведено исследование с разными гиперпараметрами для каждой модели, и для случайного леса были подобраны наилучшие параметры. В сравнении с другими моделями, решающее дерево и логистическая регрессия, модель случайного леса показала более высокую точность и наилучшее качество на задаче классификации."
   ]
  },
  {
   "cell_type": "markdown",
   "metadata": {},
   "source": [
    "## 4 Проверьте модель на тестовой выборке"
   ]
  },
  {
   "cell_type": "code",
   "execution_count": 22,
   "metadata": {},
   "outputs": [
    {
     "name": "stdout",
     "output_type": "stream",
     "text": [
      "Accuracy на тестовой выборке: 0.7884914463452566\n"
     ]
    }
   ],
   "source": [
    "# создаем модель с лучшими гиперпараметрами\n",
    "model = RandomForestClassifier(n_estimators=best_n, max_depth=best_d, random_state=12345)\n",
    "\n",
    "# обучаем модель на обучающей выборке\n",
    "model.fit(features_train, target_train)\n",
    "\n",
    "# получаем предсказания на тестовой выборке\n",
    "predictions = model.predict(features_test)\n",
    "\n",
    "# оцениваем качество модели на тестовой выборке\n",
    "accuracy = accuracy_score(target_test, predictions)\n",
    "\n",
    "print('Accuracy на тестовой выборке:', accuracy)\n"
   ]
  },
  {
   "cell_type": "markdown",
   "metadata": {},
   "source": [
    "Проверив качество модели случайного леса на тестовой выборке, мы получили Accuracy равную 0.788, что говорит о том, что наша модель работает достаточно хорошо на новых данных."
   ]
  },
  {
   "cell_type": "markdown",
   "metadata": {},
   "source": [
    "## 5 (бонус) Проверьте модели на адекватность"
   ]
  },
  {
   "cell_type": "markdown",
   "metadata": {},
   "source": [
    "проверим модель на адекватность с помощью DummyClassifier"
   ]
  },
  {
   "cell_type": "code",
   "execution_count": 23,
   "metadata": {},
   "outputs": [
    {
     "name": "stdout",
     "output_type": "stream",
     "text": [
      "Accuracy модели-дамми: 0.5023328149300156\n"
     ]
    }
   ],
   "source": [
    "from sklearn.dummy import DummyClassifier\n",
    "from sklearn.metrics import accuracy_score\n",
    "\n",
    "# создаем модель-дамми, которая будет выбирать классы случайным образом\n",
    "dummy_model = DummyClassifier(strategy=\"uniform\", random_state=12345)\n",
    "\n",
    "# обучаем модель-дамми на обучающей выборке\n",
    "dummy_model.fit(features_train, target_train)\n",
    "\n",
    "# получаем предсказания модели-дамми на валидационной выборке\n",
    "dummy_predictions = dummy_model.predict(features_val)\n",
    "\n",
    "# оцениваем качество модели-дамми с помощью метрики accuracy\n",
    "dummy_accuracy = accuracy_score(target_val, dummy_predictions)\n",
    "\n",
    "print('Accuracy модели-дамми:', dummy_accuracy)\n"
   ]
  },
  {
   "cell_type": "markdown",
   "metadata": {},
   "source": [
    "В результате проверки моделей на вменяемость мы использовали модель-дамми, которая выбирает классы случайным образом. Мы получили значение метрики accuracy для этой модели, которое составило 0.5. Это означает, что если бы мы выбирали классы случайным образом, то с вероятностью 50% мы бы предсказали правильный класс. С другой стороны, мы также оценили качество нашей модели случайного леса на тестовой выборке и получили значение метрики accuracy, равное 0.788. Это значительно лучше, чем случайный выбор классов, что говорит о том, что наша модель действительно способна делать предсказания лучше, чем случайный выбор классов."
   ]
  },
  {
   "cell_type": "markdown",
   "metadata": {},
   "source": [
    "# Итоговый вывод"
   ]
  },
  {
   "cell_type": "markdown",
   "metadata": {},
   "source": [
    "Мы провели анализ поведения пользователей и построили модель машинного обучения, которая может предсказывать, будет ли пользователь совершать определенное действие в приложении.\n",
    "\n",
    "В результате исследования мы разделили данные на обучающую, валидационную и тестовую выборки. Затем мы исследовали качество разных моделей, меняя гиперпараметры. Из проведенных экспериментов мы установили, что модель случайного леса с количеством деревьев равным 150 и глубиной равной 30 показывает наилучшее качество.\n",
    "\n",
    "После этого мы проверили качество модели на тестовой выборке и получили Accuracy на тестовой выборке равную 0.788.\n",
    "\n",
    "Дополнительно мы проверили модель на вменяемость, сравнив ее результаты с результатами модели-дамми, которая выбирает классы случайным образом. Полученные результаты показывают, что модель случайного леса лучше справляется с задачей, чем модель-дамми."
   ]
  }
 ],
 "metadata": {
  "kernelspec": {
   "display_name": "Python 3 (ipykernel)",
   "language": "python",
   "name": "python3"
  },
  "language_info": {
   "codemirror_mode": {
    "name": "ipython",
    "version": 3
   },
   "file_extension": ".py",
   "mimetype": "text/x-python",
   "name": "python",
   "nbconvert_exporter": "python",
   "pygments_lexer": "ipython3",
   "version": "3.11.3"
  },
  "toc": {
   "base_numbering": 1,
   "nav_menu": {},
   "number_sections": true,
   "sideBar": true,
   "skip_h1_title": true,
   "title_cell": "Table of Contents",
   "title_sidebar": "Contents",
   "toc_cell": false,
   "toc_position": {},
   "toc_section_display": true,
   "toc_window_display": false
  }
 },
 "nbformat": 4,
 "nbformat_minor": 4
}
